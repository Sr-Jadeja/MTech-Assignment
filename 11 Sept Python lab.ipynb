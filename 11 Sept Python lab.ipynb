{
 "cells": [
  {
   "cell_type": "markdown",
   "id": "7d9a10de-aee9-4937-88dd-aaf4115edc58",
   "metadata": {},
   "source": [
    "**Python nested if statement**"
   ]
  },
  {
   "cell_type": "code",
   "execution_count": 3,
   "id": "01eb56ff-68d4-435d-863f-516def029123",
   "metadata": {},
   "outputs": [
    {
     "name": "stdout",
     "output_type": "stream",
     "text": [
      "11\n"
     ]
    }
   ],
   "source": [
    "#program to increment number if it is positive\n",
    "x=10\n",
    "if (x>0):\n",
    "    x+=1\n",
    "print(x)"
   ]
  },
  {
   "cell_type": "code",
   "execution_count": 4,
   "id": "31b8cb13-af75-4f02-9eb3-405f8ca75e3a",
   "metadata": {},
   "outputs": [
    {
     "name": "stdin",
     "output_type": "stream",
     "text": [
      "Enter the character:  h\n"
     ]
    },
    {
     "name": "stdout",
     "output_type": "stream",
     "text": [
      "The character is not vowel\n"
     ]
    }
   ],
   "source": [
    "#Write a progeam to check if vowel or not\n",
    "V=['a','e','i','o','u','A','E','I','O','U']\n",
    "ch=input(\"Enter the character: \")\n",
    "if ch in V:\n",
    "    print(\"The character is vowel\")\n",
    "else:\n",
    "    print(\"The character is not vowel\")"
   ]
  },
  {
   "cell_type": "code",
   "execution_count": 5,
   "id": "997540fc-f68c-4135-b1fb-35a5186adce0",
   "metadata": {},
   "outputs": [
    {
     "name": "stdin",
     "output_type": "stream",
     "text": [
      "Press any key:  i\n"
     ]
    },
    {
     "name": "stdout",
     "output_type": "stream",
     "text": [
      "The character is lowercase\n"
     ]
    }
   ],
   "source": [
    "#Write a progeam to take input from user and check if it is number or character and if it is upper or lowercase.\n",
    "key=input(\"Press any key: \")\n",
    "if (key.isalpha()):\n",
    "    if key.islower():\n",
    "        print(\"The character is lowercase\")\n",
    "    else:\n",
    "        print(\"The character is uppercase\")\n",
    "if (key.isdigit()):\n",
    "    print(\"Your character is digit\")"
   ]
  },
  {
   "cell_type": "code",
   "execution_count": 6,
   "id": "41402fe5-289a-4258-b935-0962f166a962",
   "metadata": {},
   "outputs": [
    {
     "name": "stdin",
     "output_type": "stream",
     "text": [
      "Enter first number:  25\n",
      "Enter second number:  7\n",
      "Enter third number:  45\n"
     ]
    },
    {
     "name": "stdout",
     "output_type": "stream",
     "text": [
      "45 is the largest\n"
     ]
    }
   ],
   "source": [
    "#Find the largest number out of given three numbers\n",
    "a = int(input(\"Enter first number: \"))\n",
    "b = int(input(\"Enter second number: \"))\n",
    "c = int(input(\"Enter third number: \"))\n",
    "\n",
    "if a >= b and a>=c:\n",
    "    print(a, \"is the largest\")\n",
    "elif b >= a and b>=c:\n",
    "    print(b, \"is the largest\")\n",
    "elif c >= a and c>=b:\n",
    "    print(c, \"is the largest\")\n",
    "else:\n",
    "    print(\"All numbers are equal\")"
   ]
  },
  {
   "cell_type": "code",
   "execution_count": 7,
   "id": "0d2cb398-94b4-4562-b4a5-8386cea36d6c",
   "metadata": {},
   "outputs": [
    {
     "name": "stdin",
     "output_type": "stream",
     "text": [
      "Enter first number:  3\n",
      "Enter second number:  5\n",
      "Enter third number:  8\n"
     ]
    },
    {
     "name": "stdout",
     "output_type": "stream",
     "text": [
      "Sorting in ascending order is:  3 5 8\n",
      "Sorting in descending order is:  8 5 3\n"
     ]
    }
   ],
   "source": [
    "#sorting of three numbers\n",
    "a = int(input(\"Enter first number: \"))\n",
    "b = int(input(\"Enter second number: \"))\n",
    "c = int(input(\"Enter third number: \"))\n",
    "mn,mx,mid=None, None, None\n",
    "\n",
    "if a==b==c:\n",
    "    print(\"All numbers are equal\")\n",
    "else:\n",
    "    if a >= b and a>=c:\n",
    "        mx=a\n",
    "        if b>=c:\n",
    "            mid=b\n",
    "            mn=c\n",
    "        else:\n",
    "            mid=c\n",
    "            mn=b\n",
    "    \n",
    "    elif b >= a and b>=c:\n",
    "        mx=b\n",
    "        if a>=c:\n",
    "            mid=a\n",
    "            mn=c\n",
    "        else:\n",
    "            mid=c\n",
    "            mn=a\n",
    "    \n",
    "    elif c >= a and c>=b:\n",
    "        mx=c\n",
    "        if b>=a:\n",
    "            mid=b\n",
    "            mn=a\n",
    "        else:\n",
    "            mid=a\n",
    "            mn=b\n",
    "    print(\"Sorting in ascending order is: \", mn, mid, mx)\n",
    "    print(\"Sorting in descending order is: \", mx, mid, mn)"
   ]
  },
  {
   "cell_type": "code",
   "execution_count": 8,
   "id": "4800d52b-a188-4df9-8143-461e14c19245",
   "metadata": {},
   "outputs": [
    {
     "name": "stdin",
     "output_type": "stream",
     "text": [
      "Enter a number:  8\n"
     ]
    },
    {
     "name": "stdout",
     "output_type": "stream",
     "text": [
      "Absolute value is: 8.0\n"
     ]
    }
   ],
   "source": [
    "#Absolute Value (without abs())\n",
    "num = float(input(\"Enter a number: \"))\n",
    "if num < 0:\n",
    "    print(\"Absolute value is:\", -num)\n",
    "else:\n",
    "    print(\"Absolute value is:\", num)"
   ]
  },
  {
   "cell_type": "code",
   "execution_count": 9,
   "id": "49441785-db06-4e92-a18f-261e57dc2d76",
   "metadata": {},
   "outputs": [
    {
     "name": "stdout",
     "output_type": "stream",
     "text": [
      "Sum of 1 to 10 numbers 55\n"
     ]
    }
   ],
   "source": [
    "#Sum of 1 to 10 numbers\n",
    "num=1\n",
    "s=0\n",
    "while num<11:\n",
    "    s+=num\n",
    "    num+=1\n",
    "print(f\"Sum of 1 to 10 numbers {s}\")"
   ]
  },
  {
   "cell_type": "code",
   "execution_count": 10,
   "id": "3dea0297-dc31-4121-ae67-6f8f10d2a575",
   "metadata": {},
   "outputs": [],
   "source": [
    "#Armstrong number check"
   ]
  },
  {
   "cell_type": "code",
   "execution_count": 11,
   "id": "ebf25808-b04e-45cd-ac33-3663f6f25a3f",
   "metadata": {},
   "outputs": [
    {
     "name": "stdin",
     "output_type": "stream",
     "text": [
      "Enter a number:  6\n"
     ]
    },
    {
     "name": "stdout",
     "output_type": "stream",
     "text": [
      "Number is 6\n",
      "Number in hexa: 0b110\n"
     ]
    }
   ],
   "source": [
    "#convert decimal into binary\n",
    "Num=input(\"Enter a number: \")\n",
    "Num=int(Num)\n",
    "print(f\"Number is {Num}\")\n",
    "print('Number in hexa:', bin(Num))"
   ]
  },
  {
   "cell_type": "code",
   "execution_count": 1,
   "id": "c1c022c9-f940-440f-a387-4bc8be53b738",
   "metadata": {},
   "outputs": [
    {
     "name": "stdin",
     "output_type": "stream",
     "text": [
      "Enter a number:  6\n"
     ]
    },
    {
     "name": "stdout",
     "output_type": "stream",
     "text": [
      "110\n"
     ]
    }
   ],
   "source": [
    "#convert decimal into binary using while loop\n",
    "n=int(input(\"Enter a number: \"))\n",
    "ans=''\n",
    "while n>0:\n",
    "    rem=n%2\n",
    "    ans=str(rem)+ans\n",
    "    n=n//2\n",
    "print(ans)"
   ]
  },
  {
   "cell_type": "code",
   "execution_count": 2,
   "id": "72de0bc1-6e5b-4157-b7da-618c398995be",
   "metadata": {},
   "outputs": [
    {
     "name": "stdin",
     "output_type": "stream",
     "text": [
      "Enter a number:  579\n"
     ]
    },
    {
     "name": "stdout",
     "output_type": "stream",
     "text": [
      "975\n"
     ]
    }
   ],
   "source": [
    "#Reverse number\n",
    "n=int(input(\"Enter a number: \"))\n",
    "ans=''\n",
    "while n>0:\n",
    "    rem=n%10\n",
    "    ans=ans+str(rem)\n",
    "    n=n//10\n",
    "print(ans)"
   ]
  },
  {
   "cell_type": "code",
   "execution_count": 11,
   "id": "d9d5e35e-15c6-4193-bd51-7b461660dede",
   "metadata": {},
   "outputs": [
    {
     "name": "stdin",
     "output_type": "stream",
     "text": [
      "Enter a number:  6\n"
     ]
    },
    {
     "name": "stdout",
     "output_type": "stream",
     "text": [
      "720\n"
     ]
    }
   ],
   "source": [
    "#write program using for loop to calculate factorial\n",
    "n=int(input(\"Enter a number: \"))\n",
    "ans=1\n",
    "if n<=1:\n",
    "    print(ans)\n",
    "else:\n",
    "    for i in range(1,n+1):\n",
    "        ans=ans*i\n",
    "print(ans)"
   ]
  },
  {
   "cell_type": "code",
   "execution_count": 12,
   "id": "be7078f1-3769-4ddd-abb2-a52b91b8e922",
   "metadata": {},
   "outputs": [
    {
     "name": "stdin",
     "output_type": "stream",
     "text": [
      "Enter a number:  6\n"
     ]
    },
    {
     "name": "stdout",
     "output_type": "stream",
     "text": [
      "6  *  1  =  6\n",
      "6  *  2  =  12\n",
      "6  *  3  =  18\n",
      "6  *  4  =  24\n",
      "6  *  5  =  30\n",
      "6  *  6  =  36\n",
      "6  *  7  =  42\n",
      "6  *  8  =  48\n",
      "6  *  9  =  54\n",
      "6  *  10  =  60\n"
     ]
    }
   ],
   "source": [
    "#Write a program to print multiplication table of n\n",
    "n=int(input(\"Enter a number: \"))\n",
    "for i in range(1,11):\n",
    "    print(n, \" * \", i, \" = \",n*i)"
   ]
  },
  {
   "cell_type": "code",
   "execution_count": 16,
   "id": "d108b851-7dd8-4176-92f5-c63d4ea3d776",
   "metadata": {},
   "outputs": [
    {
     "name": "stdout",
     "output_type": "stream",
     "text": [
      "Leap Year:  [1904, 1908, 1912, 1916, 1920, 1924, 1928, 1932, 1936, 1940, 1944, 1948, 1952, 1956, 1960, 1964, 1968, 1972, 1976, 1980, 1984, 1988, 1992, 1996, 2000, 2004, 2008, 2012, 2016, 2020, 2024, 2028, 2032, 2036, 2040, 2044, 2048, 2052, 2056, 2060, 2064, 2068, 2072, 2076, 2080, 2084, 2088, 2092, 2096]\n"
     ]
    }
   ],
   "source": [
    "#Write a program to display all leap year of 1900-2101\n",
    "l=[]\n",
    "for i in range(1900,2101):\n",
    "    if (i % 400 == 0) or (i % 4 == 0 and i % 100 != 0):\n",
    "        l.append(i)\n",
    "print(\"Leap Year: \", l)"
   ]
  },
  {
   "cell_type": "code",
   "execution_count": 19,
   "id": "38f7f552-b19a-4dfb-922c-68fc64e216fb",
   "metadata": {},
   "outputs": [
    {
     "name": "stdin",
     "output_type": "stream",
     "text": [
      "Enter a number:  1000\n"
     ]
    },
    {
     "name": "stdout",
     "output_type": "stream",
     "text": [
      "sum : 7.485470860550343\n"
     ]
    }
   ],
   "source": [
    "#Write a program to sum the series by for loop\n",
    "n=int(input(\"Enter a number: \"))\n",
    "s=0\n",
    "for i in range(1,n+1):\n",
    "    a=1/i\n",
    "    s+=a\n",
    "print(\"sum :\",s)"
   ]
  },
  {
   "cell_type": "code",
   "execution_count": 20,
   "id": "56dd88cc-1486-491f-9bf4-d2bda81fdbb8",
   "metadata": {},
   "outputs": [
    {
     "name": "stdin",
     "output_type": "stream",
     "text": [
      "Enter a number:  13\n"
     ]
    },
    {
     "name": "stdout",
     "output_type": "stream",
     "text": [
      "sum : 8281\n"
     ]
    }
   ],
   "source": [
    "#Write a program to calculate sum of cubes of number 1 to n\n",
    "n=int(input(\"Enter a number: \"))\n",
    "s=0\n",
    "for i in range(1,n+1):\n",
    "    s+=(i*i*i)\n",
    "print(\"sum :\",s)"
   ]
  },
  {
   "cell_type": "code",
   "execution_count": null,
   "id": "c50710e3-d7ce-43b7-87aa-0505bf56c825",
   "metadata": {},
   "outputs": [],
   "source": []
  }
 ],
 "metadata": {
  "kernelspec": {
   "display_name": "Python 3 (ipykernel)",
   "language": "python",
   "name": "python3"
  },
  "language_info": {
   "codemirror_mode": {
    "name": "ipython",
    "version": 3
   },
   "file_extension": ".py",
   "mimetype": "text/x-python",
   "name": "python",
   "nbconvert_exporter": "python",
   "pygments_lexer": "ipython3",
   "version": "3.13.5"
  }
 },
 "nbformat": 4,
 "nbformat_minor": 5
}
