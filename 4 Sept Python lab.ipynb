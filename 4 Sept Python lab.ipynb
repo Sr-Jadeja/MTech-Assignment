{
 "cells": [
  {
   "cell_type": "code",
   "execution_count": 1,
   "id": "c27be256-9fd4-4bb3-a762-a74a2a2351c3",
   "metadata": {},
   "outputs": [],
   "source": [
    "#Input"
   ]
  },
  {
   "cell_type": "code",
   "execution_count": 2,
   "id": "77367140-e147-48d9-93f0-251a1e1b638a",
   "metadata": {},
   "outputs": [
    {
     "name": "stdin",
     "output_type": "stream",
     "text": [
      "What's your name? test\n"
     ]
    }
   ],
   "source": [
    "Name=input(\"What's your name?\")"
   ]
  },
  {
   "cell_type": "code",
   "execution_count": 3,
   "id": "271cc3be-2a99-464e-8263-1f5a8dafb5de",
   "metadata": {},
   "outputs": [
    {
     "name": "stdin",
     "output_type": "stream",
     "text": [
      "What's your age? : 00\n"
     ]
    }
   ],
   "source": [
    "age=input(\"What's your age? :\")"
   ]
  },
  {
   "cell_type": "code",
   "execution_count": 7,
   "id": "a256624b-7523-459a-9244-524155a25d3c",
   "metadata": {},
   "outputs": [],
   "source": [
    "#1)Write program to enter a number and display it's hex, octal and square root."
   ]
  },
  {
   "cell_type": "code",
   "execution_count": 6,
   "id": "7770c2b9-64d6-4aa6-8e9f-a0eb9d6f78d3",
   "metadata": {},
   "outputs": [
    {
     "name": "stdin",
     "output_type": "stream",
     "text": [
      "Enter a number:  25\n"
     ]
    },
    {
     "name": "stdout",
     "output_type": "stream",
     "text": [
      "Number is 25\n",
      "Number in hexa: 0x19\n",
      "Number in octal: 0o31\n",
      "Square root of Number: 5.0\n"
     ]
    }
   ],
   "source": [
    "Num=input(\"Enter a number: \")\n",
    "Num=int(Num)\n",
    "print(f\"Number is {Num}\")\n",
    "print('Number in hexa:', hex(Num))\n",
    "print('Number in octal:', oct(Num))\n",
    "print('Square root of Number:', Num**0.5)\n"
   ]
  },
  {
   "cell_type": "code",
   "execution_count": 8,
   "id": "23427b41-3e19-4029-a92d-ffd93b7e39a7",
   "metadata": {},
   "outputs": [],
   "source": [
    "#2)Write a Program to calculate area of triangle using heron's fromula"
   ]
  },
  {
   "cell_type": "code",
   "execution_count": 10,
   "id": "3ca0dbd3-c988-468a-bfaf-a7e54c6ed940",
   "metadata": {},
   "outputs": [
    {
     "name": "stdin",
     "output_type": "stream",
     "text": [
      "Enter the length of first side:  3\n",
      "Enter the length of second side:  4\n",
      "Enter the length of third side:  5\n"
     ]
    },
    {
     "name": "stdout",
     "output_type": "stream",
     "text": [
      "Area of triangle:  6.0\n"
     ]
    }
   ],
   "source": [
    "a=int(input(\"Enter the length of first side: \"))\n",
    "b=int(input(\"Enter the length of second side: \"))\n",
    "c=int(input(\"Enter the length of third side: \"))\n",
    "s=int((a+b+c)/2)\n",
    "area=(s*(s-a)*(s-b)*(s-c))**0.5\n",
    "print(\"Area of triangle: \", area)"
   ]
  },
  {
   "cell_type": "code",
   "execution_count": 11,
   "id": "a7bd428a-5343-461b-9dc4-020989d0dd5c",
   "metadata": {},
   "outputs": [],
   "source": [
    "#3)Write a Program to calculate distance between two point"
   ]
  },
  {
   "cell_type": "code",
   "execution_count": 13,
   "id": "8f37d72b-9054-4c6c-8219-787b65716de9",
   "metadata": {},
   "outputs": [
    {
     "name": "stdin",
     "output_type": "stream",
     "text": [
      "Enter the x cordinate of first point:  3\n",
      "Enter the y cordinate of first point:  4\n",
      "Enter the x cordinate of second point:  6\n",
      "Enter the y cordinate of second point:  7\n"
     ]
    },
    {
     "name": "stdout",
     "output_type": "stream",
     "text": [
      "Distaance between two points: 4.242640687119285\n"
     ]
    }
   ],
   "source": [
    "a=int(input(\"Enter the x cordinate of first point: \"))\n",
    "b=int(input(\"Enter the y cordinate of first point: \"))\n",
    "c=int(input(\"Enter the x cordinate of second point: \"))\n",
    "d=int(input(\"Enter the y cordinate of second point: \"))\n",
    "dist=(((a-c)**2)+((b-d)**2))**0.5\n",
    "print(f\"Distaance between two points: {dist}\")"
   ]
  },
  {
   "cell_type": "code",
   "execution_count": 15,
   "id": "117fd464-2a21-443c-9f6b-81b1dc04f103",
   "metadata": {},
   "outputs": [],
   "source": [
    "#4)Write a Program to calculate addition, subtraction, division, multiplication of two floating point number"
   ]
  },
  {
   "cell_type": "code",
   "execution_count": 20,
   "id": "70df15fc-f3f1-4e78-aa2e-6492abd82e21",
   "metadata": {},
   "outputs": [],
   "source": [
    "#4)Write a Program to calculate bill amount "
   ]
  },
  {
   "cell_type": "code",
   "execution_count": 21,
   "id": "e0568b40-2096-4ef0-b39d-c616dcce7dbf",
   "metadata": {},
   "outputs": [
    {
     "name": "stdin",
     "output_type": "stream",
     "text": [
      "Enter the first number:  8.7\n",
      "Enter the second number:  6.2\n"
     ]
    },
    {
     "name": "stdout",
     "output_type": "stream",
     "text": [
      "Addition of two numbers:  14.900\n",
      "Subtraction of two numbers:  2.500\n",
      "Division of two numbers:  1.403\n",
      "Multiplication of two numbers:  53.940\n"
     ]
    }
   ],
   "source": [
    "a=float(input(\"Enter the first number: \"))\n",
    "b=float(input(\"Enter the second number: \"))\n",
    "print(\"Addition of two numbers: \", format((a+b),'.3f'))\n",
    "print(\"Subtraction of two numbers: \", format((a-b),'.3f'))\n",
    "print(\"Division of two numbers: \", format((a/b),'.3f'))\n",
    "print(\"Multiplication of two numbers: \", format((a*b),'.3f'))\n"
   ]
  },
  {
   "cell_type": "code",
   "execution_count": 22,
   "id": "a7d973b6-3bc8-4c7b-8fa5-5d46bfcff4c3",
   "metadata": {},
   "outputs": [],
   "source": [
    "#4)Write a Program to generate bill "
   ]
  },
  {
   "cell_type": "code",
   "execution_count": 26,
   "id": "35289ac7-d946-4ea2-a0bf-cc6671d7423e",
   "metadata": {},
   "outputs": [
    {
     "name": "stdin",
     "output_type": "stream",
     "text": [
      "Enter Quantity sold:  5\n",
      "Enter Price per item:  30\n",
      "Enter Discount:  10\n"
     ]
    },
    {
     "name": "stdout",
     "output_type": "stream",
     "text": [
      "************************* BILL *************************\n",
      "************************* BILL *************************\n",
      "************************* BILL *************************\n",
      "Quantity sold:  5\n",
      "Price per item:  30\n",
      "--------------------------------------------------------\n",
      "Amount:  150\n",
      "Discount:  10 %\n",
      "--------------------------------------------------------\n",
      "Discounted total:  135.0\n",
      "Tax: 5%\n",
      "--------------------------------------------------------\n",
      "Total amount to be paid:  141.75\n"
     ]
    }
   ],
   "source": [
    "qs=int(input(\"Enter Quantity sold: \"))\n",
    "pi=int(input(\"Enter Price per item: \"))\n",
    "ds=int(input(\"Enter Discount: \"))\n",
    "print((format('*','*>25')),'BILL',(format('*','*>25')))\n",
    "print('*'*25,'BILL','*'*25)\n",
    "print('************************* BILL *************************')\n",
    "print(\"Quantity sold: \", qs)\n",
    "print(\"Price per item: \", pi)\n",
    "print(format('-','->56'))\n",
    "print(\"Amount: \", qs*pi)\n",
    "print(\"Discount: \", ds,\"%\")\n",
    "print(format('-','->56'))\n",
    "print(\"Discounted total: \", (qs*pi)*(100-ds)/100)\n",
    "print(\"Tax: 5%\")\n",
    "print(format('-','->56'))\n",
    "t=((qs*pi)*(100-ds)/100)*1.05\n",
    "print(\"Total amount to be paid: \", t)\n"
   ]
  },
  {
   "cell_type": "code",
   "execution_count": 27,
   "id": "2747082f-ef79-44cf-b7f3-78387303e6d8",
   "metadata": {},
   "outputs": [],
   "source": [
    "#5)Write a Program to calculate student's result based on two exam, 1 sport event, 3 activities. Weightage of activities 30%, sports 20%, exam 50%"
   ]
  },
  {
   "cell_type": "code",
   "execution_count": 34,
   "id": "5dceb2e0-68d1-4fdc-a696-9d311c945e14",
   "metadata": {},
   "outputs": [
    {
     "name": "stdin",
     "output_type": "stream",
     "text": [
      "Enter the marks of first exam out of 100:  90\n",
      "Enter the marks of second exam out of 100:  95\n",
      "Enter the marks of sport event out of 100:  85\n",
      "Enter the marks of first activity out of 100:  85\n",
      "Enter the marks of second activity out of 100:  90\n",
      "Enter the marks of third activity out of 100:  95\n"
     ]
    },
    {
     "name": "stdout",
     "output_type": "stream",
     "text": [
      "Total percentage of Activity out of 30:  27.0 %\n",
      "Total percentage of Sport out of 20:  17.0 %\n",
      "Total percentage of Exam out of 50:  46.25 %\n",
      "Total percentage of Semester out of 100 :  90.25 %\n"
     ]
    }
   ],
   "source": [
    "e1=float(input(\"Enter the marks of first exam out of 100: \"))\n",
    "e2=float(input(\"Enter the marks of second exam out of 100: \"))\n",
    "s=float(input(\"Enter the marks of sport event out of 100: \"))\n",
    "a=float(input(\"Enter the marks of first activity out of 100: \"))\n",
    "b=float(input(\"Enter the marks of second activity out of 100: \"))\n",
    "c=float(input(\"Enter the marks of third activity out of 100: \"))\n",
    "e=((e1+e2)/2)*0.5\n",
    "sp=s*0.2\n",
    "act=((a+b+c)/3)*0.3\n",
    "print('Total percentage of Activity out of 30: ',act,'%')\n",
    "print('Total percentage of Sport out of 20: ',sp,'%')\n",
    "print('Total percentage of Exam out of 50: ',e,'%')\n",
    "print('Total percentage of Semester out of 100 : ',e+sp+act,'%')"
   ]
  },
  {
   "cell_type": "code",
   "execution_count": 42,
   "id": "e4eada77-acb9-4977-ac21-b3c9cc53d44e",
   "metadata": {},
   "outputs": [],
   "source": [
    "#6)Write a Program to convert fahrenhite to degree celsius\n"
   ]
  },
  {
   "cell_type": "code",
   "execution_count": 41,
   "id": "adb53e5f-6f0e-4b44-afd0-e6daa01d0c97",
   "metadata": {},
   "outputs": [
    {
     "name": "stdin",
     "output_type": "stream",
     "text": [
      "Enter temperature in fahrenhite:  98.6\n"
     ]
    },
    {
     "name": "stdout",
     "output_type": "stream",
     "text": [
      "Temprature in celsius:  37.0\n"
     ]
    }
   ],
   "source": [
    "F=float(input(\"Enter temperature in fahrenhite: \"))\n",
    "C=(F-32)*(5/9)\n",
    "print(\"Temprature in celsius: \", C)\n"
   ]
  },
  {
   "cell_type": "code",
   "execution_count": 43,
   "id": "329f0284-7121-4851-bf3a-8aad81e7a7ab",
   "metadata": {},
   "outputs": [],
   "source": [
    "#7)Write a Program to calculate total amount of money in piggybank given count of Rs. 10,5,2,1 "
   ]
  },
  {
   "cell_type": "code",
   "execution_count": 45,
   "id": "fcc473b4-4a7d-4362-8428-15bec35248b0",
   "metadata": {},
   "outputs": [
    {
     "name": "stdin",
     "output_type": "stream",
     "text": [
      "Enter the count of Rs 10:  5\n",
      "Enter the count of Rs 5:  6\n",
      "Enter the count of Rs 2:  3\n",
      "Enter the count of Rs 1:  9\n"
     ]
    },
    {
     "name": "stdout",
     "output_type": "stream",
     "text": [
      "Total amount:  95\n"
     ]
    }
   ],
   "source": [
    "a=int(input(\"Enter the count of Rs 10: \"))\n",
    "b=int(input(\"Enter the count of Rs 5: \"))\n",
    "c=int(input(\"Enter the count of Rs 2: \"))\n",
    "d=int(input(\"Enter the count of Rs 1: \"))\n",
    "print(\"Total amount: \", 10*a+5*b+2*c+d)\n"
   ]
  },
  {
   "cell_type": "code",
   "execution_count": null,
   "id": "c7d454ce-c2e6-46f7-9a72-320a84ca887d",
   "metadata": {},
   "outputs": [],
   "source": []
  }
 ],
 "metadata": {
  "kernelspec": {
   "display_name": "Python 3 (ipykernel)",
   "language": "python",
   "name": "python3"
  },
  "language_info": {
   "codemirror_mode": {
    "name": "ipython",
    "version": 3
   },
   "file_extension": ".py",
   "mimetype": "text/x-python",
   "name": "python",
   "nbconvert_exporter": "python",
   "pygments_lexer": "ipython3",
   "version": "3.13.5"
  }
 },
 "nbformat": 4,
 "nbformat_minor": 5
}
