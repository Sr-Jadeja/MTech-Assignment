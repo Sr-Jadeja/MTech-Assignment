{
 "cells": [
  {
   "cell_type": "markdown",
   "id": "7d9a10de-aee9-4937-88dd-aaf4115edc58",
   "metadata": {},
   "source": [
    "#sequestional control selection control, iterative control statement"
   ]
  },
  {
   "cell_type": "markdown",
   "id": "4197d0bb-3678-45fa-90ab-afebc2e06065",
   "metadata": {},
   "source": [
    "Sequestial control statement\n",
    "if test exp:\n",
    "    s1\n",
    "    s2\n",
    "sX"
   ]
  },
  {
   "cell_type": "code",
   "execution_count": 13,
   "id": "01eb56ff-68d4-435d-863f-516def029123",
   "metadata": {},
   "outputs": [
    {
     "name": "stdout",
     "output_type": "stream",
     "text": [
      "11\n"
     ]
    }
   ],
   "source": [
    "#program to increment number if it is positive\n",
    "x=10\n",
    "if (x>0):\n",
    "    x+=1\n",
    "print(x)"
   ]
  },
  {
   "cell_type": "code",
   "execution_count": 14,
   "id": "edfd999c-6786-41d0-a28e-8a9649d9d646",
   "metadata": {},
   "outputs": [
    {
     "name": "stdin",
     "output_type": "stream",
     "text": [
      "Enter the age : 23\n"
     ]
    },
    {
     "name": "stdout",
     "output_type": "stream",
     "text": [
      "You are eligible to vote\n"
     ]
    }
   ],
   "source": [
    "#Write a program to determine if the person is eligible to vote.\n",
    "age=int(input(\"Enter the age :\"))\n",
    "if (age>18):\n",
    "    print(\"You are eligible to vote\")\n",
    "else:\n",
    "    print(\"You are not eligible to vote\")"
   ]
  },
  {
   "cell_type": "code",
   "execution_count": 15,
   "id": "13e14cda-832b-4f7f-b720-72828158510d",
   "metadata": {},
   "outputs": [
    {
     "name": "stdin",
     "output_type": "stream",
     "text": [
      "Press any key:  4\n"
     ]
    },
    {
     "name": "stdout",
     "output_type": "stream",
     "text": [
      "Your character is digit\n"
     ]
    }
   ],
   "source": [
    "#Write a program to determine char enter by user is digit, alphabet or space.\n",
    "char=input(\"Press any key: \")\n",
    "if (char.isalpha()):\n",
    "    print(\"Your character is alphabet\")\n",
    "if (char.isdigit()):\n",
    "    print(\"Your character is digit\")\n",
    "if (char.isspace()):\n",
    "    print(\"Your character is space\")"
   ]
  },
  {
   "cell_type": "code",
   "execution_count": 17,
   "id": "e7c37808-e3db-4873-a409-160c707fe101",
   "metadata": {},
   "outputs": [
    {
     "name": "stdin",
     "output_type": "stream",
     "text": [
      "Enter the age : 12\n"
     ]
    },
    {
     "name": "stdout",
     "output_type": "stream",
     "text": [
      "You are not eligible to vote, you will be eligible in 6 years\n"
     ]
    }
   ],
   "source": [
    "#Write a program to determine if person elgible to vote, if not eligible, then disply how many yers left till voting age.\n",
    "age=int(input(\"Enter the age :\"))\n",
    "if (age>18):\n",
    "    print(\"You are eligible to vote\")\n",
    "else:\n",
    "    print(f\"You are not eligible to vote, you will be eligible in {18-age} years\")"
   ]
  },
  {
   "cell_type": "code",
   "execution_count": 19,
   "id": "b10b6881-7012-45ad-b4e2-fc779829e0f8",
   "metadata": {},
   "outputs": [
    {
     "name": "stdin",
     "output_type": "stream",
     "text": [
      "Enter the first number:  3\n",
      "Enter the second number:  8\n"
     ]
    },
    {
     "name": "stdout",
     "output_type": "stream",
     "text": [
      "8 is greater than 3\n"
     ]
    }
   ],
   "source": [
    "#Write a program to enter two numer and print large number\n",
    "a=int(input(\"Enter the first number: \"))\n",
    "b=int(input(\"Enter the second number: \"))\n",
    "if a>b:\n",
    "    print(f\"{a} is greater than {b}\")\n",
    "elif b>a:\n",
    "    print(f\"{b} is greater than {a}\")\n",
    "else:\n",
    "    print(f\"{a} is equal to {b}\")"
   ]
  },
  {
   "cell_type": "code",
   "execution_count": 29,
   "id": "4736d447-baec-44fd-a449-a5faa29300ba",
   "metadata": {},
   "outputs": [
    {
     "name": "stdin",
     "output_type": "stream",
     "text": [
      "Press any key:  B\n"
     ]
    },
    {
     "name": "stdout",
     "output_type": "stream",
     "text": [
      "The lowercase is:  b\n"
     ]
    }
   ],
   "source": [
    "#Write a program to enter a charracter, if in small case convert to upercase and vise versa\n",
    "char=input(\"Press any key: \")\n",
    "if char.islower():\n",
    "    print(\"The uppercase is: \",char.upper())\n",
    "else:\n",
    "    print(\"The lowercase is: \",char.lower())"
   ]
  },
  {
   "cell_type": "code",
   "execution_count": null,
   "id": "31b8cb13-af75-4f02-9eb3-405f8ca75e3a",
   "metadata": {},
   "outputs": [],
   "source": []
  }
 ],
 "metadata": {
  "kernelspec": {
   "display_name": "Python 3 (ipykernel)",
   "language": "python",
   "name": "python3"
  },
  "language_info": {
   "codemirror_mode": {
    "name": "ipython",
    "version": 3
   },
   "file_extension": ".py",
   "mimetype": "text/x-python",
   "name": "python",
   "nbconvert_exporter": "python",
   "pygments_lexer": "ipython3",
   "version": "3.13.5"
  }
 },
 "nbformat": 4,
 "nbformat_minor": 5
}
