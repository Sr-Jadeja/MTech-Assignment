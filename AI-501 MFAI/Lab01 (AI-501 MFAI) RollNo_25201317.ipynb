{
 "cells": [
  {
   "cell_type": "markdown",
   "id": "82e1f753-358d-4fb2-98e9-bb467fe861ee",
   "metadata": {},
   "source": [
    "**Lab 01 (AI-501 MFAI) RollNo_25201317**"
   ]
  },
  {
   "cell_type": "markdown",
   "id": "f2f5b698-9f3f-4d24-bab8-fd14a4b61bd2",
   "metadata": {},
   "source": [
    "**Linear discriminant analysis (LDA)**"
   ]
  },
  {
   "cell_type": "code",
   "execution_count": 29,
   "id": "ef58e518-fa7a-4d50-894d-1662457fc6df",
   "metadata": {},
   "outputs": [
    {
     "name": "stdout",
     "output_type": "stream",
     "text": [
      "\n",
      "Input Data:\n",
      "     Infection   CRP  Temp\n",
      "0       Viral  40.0  36.0\n",
      "1       Viral  11.1  37.2\n",
      "2       Viral  30.0  36.5\n",
      "3       Viral  21.4  39.4\n",
      "4       Viral  10.7  39.6\n",
      "5       Viral   3.4  40.7\n",
      "6   Bacterial  42.0  37.6\n",
      "7   Bacterial  31.1  42.2\n",
      "8   Bacterial  50.0  38.5\n",
      "9   Bacterial  60.4  39.4\n",
      "10  Bacterial  45.7  38.6\n",
      "11  Bacterial  17.3  42.7 \n",
      "\n"
     ]
    }
   ],
   "source": [
    "import numpy as np\n",
    "import pandas as pd\n",
    "np.set_printoptions(precision=3, suppress=True)\n",
    "\n",
    "data = {\n",
    "    \"Infection\": [\"Viral\",\"Viral\",\"Viral\",\"Viral\",\"Viral\",\"Viral\",\n",
    "                  \"Bacterial\",\"Bacterial\",\"Bacterial\",\"Bacterial\",\"Bacterial\",\"Bacterial\"],\n",
    "    \"CRP\": [40.0, 11.1, 30.0, 21.4, 10.7, 3.4, 42.0, 31.1, 50.0, 60.4, 45.7, 17.3],\n",
    "    \"Temp\":[36.0, 37.2, 36.5, 39.4, 39.6, 40.7, 37.6, 42.2, 38.5, 39.4, 38.6, 42.7]\n",
    "}\n",
    "df = pd.DataFrame(data)\n",
    "print(\"\\nInput Data:\\n\", df, \"\\n\")"
   ]
  },
  {
   "cell_type": "code",
   "execution_count": 30,
   "id": "8a0eca01-f402-4488-9d19-08f61a15e16e",
   "metadata": {},
   "outputs": [],
   "source": [
    "viral = df[df[\"Infection\"]==\"Viral\"][[\"CRP\",\"Temp\"]].to_numpy()\n",
    "bact  = df[df[\"Infection\"]==\"Bacterial\"][[\"CRP\",\"Temp\"]].to_numpy()\n",
    "n1, n2 = viral.shape[0], bact.shape[0]"
   ]
  },
  {
   "cell_type": "code",
   "execution_count": 31,
   "id": "f195648e-3642-486b-8bfa-43d0c8e014bb",
   "metadata": {},
   "outputs": [
    {
     "name": "stdout",
     "output_type": "stream",
     "text": [
      "Mean (Viral): [19.433 38.233]\n",
      "Mean (Bacterial): [41.083 39.833]\n",
      "Overall Mean: [30.258 39.033] \n",
      "\n"
     ]
    }
   ],
   "source": [
    "mean_viral = viral.mean(axis=0)\n",
    "mean_bact  = bact.mean(axis=0)\n",
    "overall_mean = df[[\"CRP\",\"Temp\"]].mean().to_numpy()\n",
    "print(\"Mean (Viral):\", np.round(mean_viral, 3))\n",
    "print(\"Mean (Bacterial):\", np.round(mean_bact, 3))\n",
    "print(\"Overall Mean:\", np.round(overall_mean, 3), \"\\n\")"
   ]
  },
  {
   "cell_type": "code",
   "execution_count": 32,
   "id": "e7b5c1a4-76f1-4a68-90ab-67c69f449265",
   "metadata": {},
   "outputs": [
    {
     "name": "stdout",
     "output_type": "stream",
     "text": [
      "Covariance (Viral):\n",
      " [[156.882 -17.471]\n",
      " [-17.471   3.062]]\n",
      "Covariance (Bacterial):\n",
      " [[190.018 -19.968]\n",
      " [-19.968   3.716]] \n",
      "\n",
      "Within-Group Covariance Matrix S_w:\n",
      " [[173.45  -18.719]\n",
      " [-18.719   3.389]] \n",
      "\n",
      "Between-Group Covariance Matrix S_b:\n",
      " [[468.723  34.64 ]\n",
      " [ 34.64    2.56 ]] \n",
      "\n"
     ]
    }
   ],
   "source": [
    "cov_viral = np.cov(viral.T, bias=True)\n",
    "cov_bact  = np.cov(bact.T, bias=True)\n",
    "print(\"Covariance (Viral):\\n\", np.round(cov_viral, 3))\n",
    "print(\"Covariance (Bacterial):\\n\", np.round(cov_bact, 3), \"\\n\")\n",
    "\n",
    "Sw = (n1 * cov_viral + n2 * cov_bact) / (n1 + n2)\n",
    "print(\"Within-Group Covariance Matrix S_w:\\n\", np.round(Sw, 3), \"\\n\")\n",
    "\n",
    "mean_diff = (mean_viral - mean_bact).reshape(-1, 1)\n",
    "Sb = mean_diff @ mean_diff.T\n",
    "print(\"Between-Group Covariance Matrix S_b:\\n\", np.round(Sb, 3), \"\\n\")"
   ]
  },
  {
   "cell_type": "code",
   "execution_count": 33,
   "id": "d31d47fb-3e48-4427-9ed5-8d0476599562",
   "metadata": {},
   "outputs": [
    {
     "name": "stdout",
     "output_type": "stream",
     "text": [
      "Eigenvalues: [14.025 -0.   ]\n",
      "Eigenvector (Discriminant Coefficients): [0.15  0.989] \n",
      "\n",
      "Discriminant Function (Raw): D = 0.1496*CRP + 0.9887*Temp\n"
     ]
    }
   ],
   "source": [
    "eigvals, eigvecs = np.linalg.eig(np.linalg.inv(Sw).dot(Sb))\n",
    "idx = np.argmax(eigvals.real)\n",
    "w_raw = eigvecs[:, idx].real\n",
    "w_raw = w_raw / np.linalg.norm(w_raw)\n",
    "print(\"Eigenvalues:\", np.round(eigvals.real, 3))\n",
    "print(\"Eigenvector (Discriminant Coefficients):\", np.round(w_raw, 4), \"\\n\")\n",
    "\n",
    "print(\"Discriminant Function (Raw): D = {:.4f}*CRP + {:.4f}*Temp\".format(w_raw[0], w_raw[1]))"
   ]
  },
  {
   "cell_type": "code",
   "execution_count": 34,
   "id": "d26b5cdc-71ef-445d-9012-5a71d0ee23f1",
   "metadata": {},
   "outputs": [
    {
     "name": "stdout",
     "output_type": "stream",
     "text": [
      "\n",
      "Standardized Within-Group Covariance S_w_z:\n",
      " [[ 0.597 -0.547]\n",
      " [-0.547  0.841]]\n",
      "Standardized Between-Group Covariance S_b_z:\n",
      " [[1.613 1.012]\n",
      " [1.012 0.635]]\n",
      "Eigenvalues (Standardized): [14.025 -0.   ]\n",
      "Discriminant Coefficients (Z, unit length): [0.789 0.614]\n"
     ]
    }
   ],
   "source": [
    "stds = df[[\"CRP\",\"Temp\"]].std(ddof=0).to_numpy()\n",
    "Z = (df[[\"CRP\",\"Temp\"]].to_numpy() - overall_mean) / stds\n",
    "\n",
    "cov_viral_z = np.cov(Z[:n1].T, bias=True)\n",
    "cov_bact_z  = np.cov(Z[n1:].T, bias=True)\n",
    "Sw_z = (n1 * cov_viral_z + n2 * cov_bact_z) / (n1 + n2)\n",
    "mean_diff_z = (Z[:n1].mean(axis=0) - Z[n1:].mean(axis=0)).reshape(-1, 1)\n",
    "Sb_z = mean_diff_z @ mean_diff_z.T\n",
    "\n",
    "eigvals_z, eigvecs_z = np.linalg.eig(np.linalg.inv(Sw_z).dot(Sb_z))\n",
    "idx_z = np.argmax(eigvals_z.real)\n",
    "w_z = eigvecs_z[:, idx_z].real\n",
    "if w_z[0] < 0: w_z = -w_z\n",
    "w_z_unit = w_z / np.linalg.norm(w_z)\n",
    "print(\"\\nStandardized Within-Group Covariance S_w_z:\\n\", np.round(Sw_z, 3))\n",
    "print(\"Standardized Between-Group Covariance S_b_z:\\n\", np.round(Sb_z, 3))\n",
    "print(\"Eigenvalues (Standardized):\", np.round(eigvals_z.real, 3))\n",
    "print(\"Discriminant Coefficients (Z, unit length):\", np.round(w_z_unit, 4))"
   ]
  },
  {
   "cell_type": "code",
   "execution_count": 35,
   "id": "e19de3b5-704b-48a1-a814-2bb3d9f8f782",
   "metadata": {},
   "outputs": [
    {
     "name": "stdout",
     "output_type": "stream",
     "text": [
      "\n",
      "Cutoff Score (Raw): 43.121\n"
     ]
    }
   ],
   "source": [
    "mean_score_viral = np.dot(mean_viral, w_raw)\n",
    "mean_score_bact  = np.dot(mean_bact, w_raw)\n",
    "cutoff = (mean_score_viral + mean_score_bact) / 2\n",
    "print(\"\\nCutoff Score (Raw): {:.3f}\".format(cutoff))"
   ]
  }
 ],
 "metadata": {
  "kernelspec": {
   "display_name": "Python 3 (ipykernel)",
   "language": "python",
   "name": "python3"
  },
  "language_info": {
   "codemirror_mode": {
    "name": "ipython",
    "version": 3
   },
   "file_extension": ".py",
   "mimetype": "text/x-python",
   "name": "python",
   "nbconvert_exporter": "python",
   "pygments_lexer": "ipython3",
   "version": "3.13.5"
  }
 },
 "nbformat": 4,
 "nbformat_minor": 5
}
