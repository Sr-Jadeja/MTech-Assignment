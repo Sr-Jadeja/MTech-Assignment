{
 "cells": [
  {
   "cell_type": "markdown",
   "id": "82e1f753-358d-4fb2-98e9-bb467fe861ee",
   "metadata": {},
   "source": [
    "**Assignment No 1 RollNo_25201317**"
   ]
  },
  {
   "cell_type": "markdown",
   "id": "b35cd8f3-c7aa-4668-b468-8048d466b419",
   "metadata": {},
   "source": [
    "**Q1) Write a Python program to get a list, sorted in increasing order by the last element in each tuple from a given list of non-empty tuples. Sample List : [(2, 5), (1, 2), (4, 4), (2, 3), (2, 1)]**"
   ]
  },
  {
   "cell_type": "code",
   "execution_count": 1,
   "id": "be5552cd-0430-41ea-908b-929287d82679",
   "metadata": {},
   "outputs": [
    {
     "name": "stdout",
     "output_type": "stream",
     "text": [
      "Dictionary after sorting by last element of tuple:  [(2, 1), (1, 2), (2, 3), (4, 4), (2, 5)]\n"
     ]
    }
   ],
   "source": [
    "SL=[(2, 5), (1, 2), (4, 4), (2, 3), (2, 1)]\n",
    "a=[]\n",
    "for i, e in enumerate(SL):\n",
    "    a.append(e[1])\n",
    "\n",
    "a.sort()\n",
    "i=0\n",
    "ans=[]\n",
    "while i<len(a):\n",
    "    for j in range(len(SL)):\n",
    "        if a[i]==SL[j][1]:\n",
    "            ans.append(SL[j])\n",
    "    i=i+1\n",
    "print(\"Dictionary after sorting by last element of tuple: \",ans)"
   ]
  },
  {
   "cell_type": "markdown",
   "id": "71b6e1a5-1b74-42a0-b453-151107cdaf97",
   "metadata": {},
   "source": [
    "**Q2) Write a Python program to get a string from a given string where all occurrences of its first char have been changed to '$', \n",
    "except the first char itself. Sample String : 'restart'**"
   ]
  },
  {
   "cell_type": "code",
   "execution_count": 2,
   "id": "987d697c-37a2-4fcb-b1b4-d203c74e1b8b",
   "metadata": {},
   "outputs": [
    {
     "name": "stdin",
     "output_type": "stream",
     "text": [
      "Enter the string:  restart\n"
     ]
    },
    {
     "name": "stdout",
     "output_type": "stream",
     "text": [
      "Result after replacing:  resta$t\n"
     ]
    }
   ],
   "source": [
    "string=input('Enter the string: ')\n",
    "fl=string[0]\n",
    "rest=string[1:]\n",
    "rest=rest.replace(fl, \"$\")\n",
    "ans=fl+rest\n",
    "print('Result after replacing: ',ans)"
   ]
  },
  {
   "cell_type": "markdown",
   "id": "76f1d059-f1bf-4cb7-8255-9ab309c7c967",
   "metadata": {},
   "source": [
    "**Q3) Write a Python program to find the first appearance of the substring 'not' and 'poor' from a given string, if 'bad' follows the 'poor', replace the whole 'not'...'poor' substring with 'good'. Return the resulting string.\n",
    "Sample String : 'The lyrics is not that poor!'**"
   ]
  },
  {
   "cell_type": "code",
   "execution_count": 3,
   "id": "75d41309-3884-45d7-a456-59d5f8a5ea06",
   "metadata": {},
   "outputs": [
    {
     "name": "stdin",
     "output_type": "stream",
     "text": [
      "Enter the string:  The lyrics is not that poor!\n"
     ]
    },
    {
     "name": "stdout",
     "output_type": "stream",
     "text": [
      "The result after replacing:  The lyrics is good!\n"
     ]
    }
   ],
   "source": [
    "string=input('Enter the string: ')\n",
    "\n",
    "i=string.find('not')\n",
    "ans=string[:i]\n",
    "string=string[i+3:]\n",
    "j=string.find('poor')\n",
    "\n",
    "if i!=-1 and j!=-1:\n",
    "    ans=ans+'good' +string[j+4:]\n",
    "    print('The result after replacing: ',ans)\n",
    "else:\n",
    "    print(\"The stirng does not have 'not' before 'poor'.\")"
   ]
  },
  {
   "cell_type": "markdown",
   "id": "06d3ddc0-8180-47d3-820c-db439c8e3094",
   "metadata": {},
   "source": [
    "**Q4) Write a python program to sort a dictionary by value.**"
   ]
  },
  {
   "cell_type": "code",
   "execution_count": 4,
   "id": "d839ba96-520c-493a-9f63-ffa36e980925",
   "metadata": {},
   "outputs": [
    {
     "name": "stdin",
     "output_type": "stream",
     "text": [
      "Enter key:value pairs separated by space:  'p':2 'q':6 'c':1 'a':3\n"
     ]
    },
    {
     "name": "stdout",
     "output_type": "stream",
     "text": [
      "Dictionary is: {\"'p'\": '2', \"'q'\": '6', \"'c'\": '1', \"'a'\": '3'}\n",
      "Dictionary after sorting by value : {\"'c'\": '1', \"'p'\": '2', \"'a'\": '3', \"'q'\": '6'}\n"
     ]
    }
   ],
   "source": [
    "entries = input(\"Enter key:value pairs separated by space: \")\n",
    "entries=entries.split()\n",
    "dictionary={}\n",
    "for i in entries:\n",
    "    k, v= i.split(\":\")\n",
    "    dictionary[k]=v\n",
    "\n",
    "print(\"Dictionary is:\", dictionary)\n",
    "\n",
    "swapped={v:k for k,v in dictionary.items()}\n",
    "sort= dict(sorted(swapped.items()))\n",
    "ans={k:v for v,k in sort.items()}\n",
    "print(\"Dictionary after sorting by value :\",ans)"
   ]
  },
  {
   "cell_type": "markdown",
   "id": "6d8ad714-ba25-4f4b-9857-8361b66db428",
   "metadata": {},
   "source": [
    "**Q5) Write a python program to add key to a dictionary.**"
   ]
  },
  {
   "cell_type": "code",
   "execution_count": 5,
   "id": "374fcb70-408e-467e-be75-ccdfccccb46f",
   "metadata": {},
   "outputs": [
    {
     "name": "stdin",
     "output_type": "stream",
     "text": [
      "Enter the numer of key:value pair in the dictionary:  3\n",
      "Enter the key number 1:  apple\n",
      "Enter the value number 1:  5\n",
      "Enter the key number 2:  mango\n",
      "Enter the value number 2:  11\n",
      "Enter the key number 3:  banana\n",
      "Enter the value number 3:  7\n"
     ]
    },
    {
     "name": "stdout",
     "output_type": "stream",
     "text": [
      "Dictionary is: {'apple': '5', 'mango': '11', 'banana': '7'}\n"
     ]
    }
   ],
   "source": [
    "n=int(input('Enter the numer of key:value pair in the dictionary: '))\n",
    "dictionary={}\n",
    "for i in range(n):\n",
    "    k=input(f'Enter the key number {i+1}: ')\n",
    "    v=input(f'Enter the value number {i+1}: ')\n",
    "    dictionary[k]=v\n",
    "\n",
    "print(\"Dictionary is:\", dictionary)"
   ]
  }
 ],
 "metadata": {
  "kernelspec": {
   "display_name": "Python 3 (ipykernel)",
   "language": "python",
   "name": "python3"
  },
  "language_info": {
   "codemirror_mode": {
    "name": "ipython",
    "version": 3
   },
   "file_extension": ".py",
   "mimetype": "text/x-python",
   "name": "python",
   "nbconvert_exporter": "python",
   "pygments_lexer": "ipython3",
   "version": "3.13.5"
  }
 },
 "nbformat": 4,
 "nbformat_minor": 5
}
