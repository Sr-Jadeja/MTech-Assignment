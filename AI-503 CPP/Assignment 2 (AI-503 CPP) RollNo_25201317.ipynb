{
 "cells": [
  {
   "cell_type": "markdown",
   "id": "82e1f753-358d-4fb2-98e9-bb467fe861ee",
   "metadata": {},
   "source": [
    "**Assignment 2 (AI-503 CPP) RollNo_25201317**"
   ]
  },
  {
   "cell_type": "code",
   "execution_count": 11,
   "id": "fa86f775-6b9e-4dc8-9974-7b08c49fd44b",
   "metadata": {},
   "outputs": [
    {
     "name": "stdin",
     "output_type": "stream",
     "text": [
      "Enter a number:  -8\n"
     ]
    },
    {
     "name": "stdout",
     "output_type": "stream",
     "text": [
      "The number is Negative\n"
     ]
    }
   ],
   "source": [
    "# 1. Positive or Negative\n",
    "num = int(input(\"Enter a number: \"))\n",
    "if num > 0:\n",
    "    print(\"The number is Positive\")\n",
    "elif num < 0:\n",
    "    print(\"The number is Negative\")\n",
    "else:\n",
    "    print(\"The number is Zero\")"
   ]
  },
  {
   "cell_type": "code",
   "execution_count": 12,
   "id": "bb99d90a-3ce0-476e-ba6d-b6d458ae1992",
   "metadata": {},
   "outputs": [
    {
     "name": "stdin",
     "output_type": "stream",
     "text": [
      "Enter an integer:  67\n"
     ]
    },
    {
     "name": "stdout",
     "output_type": "stream",
     "text": [
      "The number is Odd\n"
     ]
    }
   ],
   "source": [
    "# 2. Even or Odd\n",
    "num = int(input(\"Enter an integer: \"))\n",
    "if num % 2 == 0:\n",
    "    print(\"The number is Even\")\n",
    "else:\n",
    "    print(\"The number is Odd\")"
   ]
  },
  {
   "cell_type": "code",
   "execution_count": 13,
   "id": "48e85c7d-1032-4ad8-8860-053b27f33136",
   "metadata": {},
   "outputs": [
    {
     "name": "stdin",
     "output_type": "stream",
     "text": [
      "Enter first number:  5\n",
      "Enter second number:  8\n"
     ]
    },
    {
     "name": "stdout",
     "output_type": "stream",
     "text": [
      "8 is larger\n"
     ]
    }
   ],
   "source": [
    "# 3. Largest of Two Numbers\n",
    "a = int(input(\"Enter first number: \"))\n",
    "b = int(input(\"Enter second number: \"))\n",
    "if a > b:\n",
    "    print(a, \"is larger\")\n",
    "elif b > a:\n",
    "    print(b, \"is larger\")\n",
    "else:\n",
    "    print(\"Both numbers are equal\")"
   ]
  },
  {
   "cell_type": "code",
   "execution_count": 15,
   "id": "80540f7f-b854-450b-8403-6761c71283a9",
   "metadata": {},
   "outputs": [
    {
     "name": "stdin",
     "output_type": "stream",
     "text": [
      "Enter a number:  -6\n"
     ]
    },
    {
     "name": "stdout",
     "output_type": "stream",
     "text": [
      "Absolute value is: 6\n"
     ]
    }
   ],
   "source": [
    "# 4. Absolute Value (without abs())\n",
    "num = int(input(\"Enter a number: \"))\n",
    "if num < 0:\n",
    "    print(\"Absolute value is:\", -num)\n",
    "else:\n",
    "    print(\"Absolute value is:\", num)"
   ]
  },
  {
   "cell_type": "code",
   "execution_count": 16,
   "id": "465cfe95-a5a7-4903-8129-57af43727a62",
   "metadata": {},
   "outputs": [
    {
     "name": "stdin",
     "output_type": "stream",
     "text": [
      "Enter your age:  16\n"
     ]
    },
    {
     "name": "stdout",
     "output_type": "stream",
     "text": [
      "You are not eligible to vote\n"
     ]
    }
   ],
   "source": [
    "# 5. Eligibility for Voting\n",
    "age = int(input(\"Enter your age: \"))\n",
    "if age >= 18:\n",
    "    print(\"You are eligible to vote\")\n",
    "else:\n",
    "    print(\"You are not eligible to vote\")"
   ]
  },
  {
   "cell_type": "code",
   "execution_count": 17,
   "id": "d254f18a-641f-4c1d-be18-7bde310f28ac",
   "metadata": {},
   "outputs": [
    {
     "name": "stdin",
     "output_type": "stream",
     "text": [
      "Enter a year:  2016\n"
     ]
    },
    {
     "name": "stdout",
     "output_type": "stream",
     "text": [
      "2016 is a Leap Year\n"
     ]
    }
   ],
   "source": [
    "# 6. Leap Year Check\n",
    "year = int(input(\"Enter a year: \"))\n",
    "if (year % 400 == 0) or (year % 4 == 0 and year % 100 != 0):\n",
    "    print(year, \"is a Leap Year\")\n",
    "else:\n",
    "    print(year, \"is NOT a Leap Year\")"
   ]
  },
  {
   "cell_type": "code",
   "execution_count": 18,
   "id": "167964c0-ca00-44e6-8db1-797d49db63bb",
   "metadata": {},
   "outputs": [
    {
     "name": "stdin",
     "output_type": "stream",
     "text": [
      "Enter marks:  87\n"
     ]
    },
    {
     "name": "stdout",
     "output_type": "stream",
     "text": [
      "You are Pass\n"
     ]
    }
   ],
   "source": [
    "# 7. Grade Calculation\n",
    "marks = int(input(\"Enter marks: \"))\n",
    "if marks >= 40:\n",
    "    print(\"You are Pass\")\n",
    "else:\n",
    "    print(\"You are Fail\")"
   ]
  },
  {
   "cell_type": "code",
   "execution_count": 19,
   "id": "f51a8ff9-86e7-4775-bfc7-6352e26d6207",
   "metadata": {},
   "outputs": [
    {
     "name": "stdin",
     "output_type": "stream",
     "text": [
      "Enter a number:  5690\n"
     ]
    },
    {
     "name": "stdout",
     "output_type": "stream",
     "text": [
      "5690 is a multiple of 5\n"
     ]
    }
   ],
   "source": [
    "# 8. Multiple of 5\n",
    "num = int(input(\"Enter a number: \"))\n",
    "if num % 5 == 0:\n",
    "    print(num, \"is a multiple of 5\")\n",
    "else:\n",
    "    print(num, \"is not a multiple of 5\")"
   ]
  },
  {
   "cell_type": "code",
   "execution_count": 20,
   "id": "8c196235-0c53-450b-8e51-b974ed7ab94e",
   "metadata": {},
   "outputs": [
    {
     "name": "stdin",
     "output_type": "stream",
     "text": [
      "Enter a character:  K\n"
     ]
    },
    {
     "name": "stdout",
     "output_type": "stream",
     "text": [
      "Uppercase Letter\n"
     ]
    }
   ],
   "source": [
    "# 9. Character Case Check\n",
    "ch = input(\"Enter a character: \")\n",
    "if 'A' <= ch <= 'Z':\n",
    "    print(\"Uppercase Letter\")\n",
    "elif 'a' <= ch <= 'z':\n",
    "    print(\"Lowercase Letter\")\n",
    "else:\n",
    "    print(\"Not a Letter\")"
   ]
  },
  {
   "cell_type": "code",
   "execution_count": 21,
   "id": "d544e660-b380-4206-9424-6e3cd19d2c90",
   "metadata": {},
   "outputs": [
    {
     "name": "stdin",
     "output_type": "stream",
     "text": [
      "Enter purchase amount:  1658\n"
     ]
    },
    {
     "name": "stdout",
     "output_type": "stream",
     "text": [
      "Final bill amount: 1492.2\n"
     ]
    }
   ],
   "source": [
    "# 10. Discount Calculator\n",
    "amount = float(input(\"Enter purchase amount: \"))\n",
    "if amount >= 1000:\n",
    "    discount = amount * 0.10\n",
    "    final_amount = amount - discount\n",
    "else:\n",
    "    final_amount = amount\n",
    "print(\"Final bill amount:\", final_amount)\n"
   ]
  }
 ],
 "metadata": {
  "kernelspec": {
   "display_name": "Python 3 (ipykernel)",
   "language": "python",
   "name": "python3"
  },
  "language_info": {
   "codemirror_mode": {
    "name": "ipython",
    "version": 3
   },
   "file_extension": ".py",
   "mimetype": "text/x-python",
   "name": "python",
   "nbconvert_exporter": "python",
   "pygments_lexer": "ipython3",
   "version": "3.13.5"
  }
 },
 "nbformat": 4,
 "nbformat_minor": 5
}
