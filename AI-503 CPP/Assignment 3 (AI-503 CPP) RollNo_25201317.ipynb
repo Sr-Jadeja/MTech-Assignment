{
 "cells": [
  {
   "cell_type": "markdown",
   "id": "82e1f753-358d-4fb2-98e9-bb467fe861ee",
   "metadata": {},
   "source": [
    "**Assignment 3 (AI-503 CPP) RollNo_25201317**"
   ]
  },
  {
   "cell_type": "markdown",
   "id": "c5e2d616-734f-4ab7-be97-db1be65bbe2e",
   "metadata": {},
   "source": [
    "Q1) Generate all prime numbers less than 100.Print them in a spiral format (like a clockwise square spiral) \n",
    "of minimal size that fits all primes."
   ]
  },
  {
   "cell_type": "code",
   "execution_count": 24,
   "id": "5ebc2e86-5ffa-41e9-af56-a833b2888c63",
   "metadata": {},
   "outputs": [
    {
     "name": "stdout",
     "output_type": "stream",
     "text": [
      "[2, 3, 5, 7, 11, 13, 17, 19, 23, 29, 31, 37, 41, 43, 47, 53, 59, 61, 67, 71, 73, 79, 83, 89, 97]\n",
      "lenth of primes:  25\n"
     ]
    }
   ],
   "source": [
    "primes = []\n",
    "for num in range(2, 100):\n",
    "    is_prime = True\n",
    "    for i in range(2, int(num**0.5)+1):\n",
    "        if num % i == 0:\n",
    "            is_prime = False\n",
    "            break\n",
    "    if is_prime:\n",
    "        primes.append(num)\n",
    "print(primes)\n",
    "print(\"lenth of primes: \",len(primes))"
   ]
  },
  {
   "cell_type": "code",
   "execution_count": 28,
   "id": "6a912a1c-22de-4686-8728-012ea9bf0f08",
   "metadata": {},
   "outputs": [
    {
     "name": "stdout",
     "output_type": "stream",
     "text": [
      " 2  3  5  7 11 \n",
      "53 59 61 67 13 \n",
      "47 89  0 71 17 \n",
      "43 83 79 73 19 \n",
      "41 37 31 29 23 \n"
     ]
    }
   ],
   "source": [
    "n = 5  # grid size\n",
    "spiral = [[0]*n for _ in range(n)]\n",
    "\n",
    "# Fill spiral clockwise using separate loops\n",
    "index = 0\n",
    "\n",
    "# 1. Top row\n",
    "for i in range(n):\n",
    "    spiral[0][i] = primes[index]\n",
    "    index += 1\n",
    "\n",
    "# 2. Right column (excluding top row)\n",
    "for i in range(1, n):\n",
    "    spiral[i][n-1] = primes[index]\n",
    "    index += 1\n",
    "\n",
    "# 3. Bottom row (right to left)\n",
    "for i in range(n-2, -1, -1):\n",
    "    spiral[n-1][i] = primes[index]\n",
    "    index += 1\n",
    "\n",
    "# 4. Left column (bottom to top)\n",
    "for i in range(n-2, 0, -1):\n",
    "    spiral[i][0] = primes[index]\n",
    "    index += 1\n",
    "\n",
    "# 5. Inner 3x3 spiral\n",
    "# Top inner row\n",
    "for i in range(1, n-1):\n",
    "    spiral[1][i] = primes[index]\n",
    "    index += 1\n",
    "# Right inner column\n",
    "for i in range(2, n-1):\n",
    "    spiral[i][n-2] = primes[index]\n",
    "    index += 1\n",
    "# Bottom inner row\n",
    "for i in range(n-3, 0, -1):\n",
    "    spiral[n-2][i] = primes[index]\n",
    "    index += 1\n",
    "# Left inner column\n",
    "spiral[2][1] = primes[index]\n",
    "index += 1\n",
    "\n",
    "# Print spiral\n",
    "for row in spiral:\n",
    "    for val in row:\n",
    "        print(f\"{val:2}\", end=\" \")\n",
    "    print()\n"
   ]
  },
  {
   "cell_type": "code",
   "execution_count": null,
   "id": "e9e76316-8749-418e-b972-c3b2f61fc885",
   "metadata": {},
   "outputs": [],
   "source": []
  },
  {
   "cell_type": "markdown",
   "id": "62957178-c3ae-42f5-8f76-be319036ae45",
   "metadata": {},
   "source": [
    "Q2) You are a data analyst at a streaming platform, managing user interactions, analytics,\n",
    "and daily operations. Use a for loop to create a text-based graph of hourly views. For\n",
    "example, use * to represent every 5 views."
   ]
  },
  {
   "cell_type": "code",
   "execution_count": 36,
   "id": "69672004-79e3-4ed7-aa51-e22d711004ce",
   "metadata": {},
   "outputs": [
    {
     "name": "stdout",
     "output_type": "stream",
     "text": [
      "Hour| Views Graph\n",
      "-------------------\n",
      "0   | ** (12)\n",
      "1   | ***** (25)\n",
      "2   | * (8)\n",
      "3   | ****** (30)\n",
      "4   | *** (17)\n",
      "5   | * (5)\n",
      "6   | **** (22)\n",
      "7   | ******** (40)\n",
      "8   | *** (18)\n",
      "9   | ** (10)\n"
     ]
    }
   ],
   "source": [
    "# Example hourly views for 10 hours\n",
    "hourly_views = [12, 25, 8, 30, 17, 5, 22, 40, 18, 10]\n",
    "\n",
    "print(\"Hour| Views Graph\")\n",
    "print(\"-------------------\")\n",
    "\n",
    "# For loop to create text-based graph\n",
    "for hour in range(len(hourly_views)):\n",
    "    views = hourly_views[hour]\n",
    "    stars = views // 5\n",
    "    print(f\"{hour}   | \" + \"*\"*stars + f\" ({views})\")\n"
   ]
  },
  {
   "cell_type": "code",
   "execution_count": null,
   "id": "2a3de757-144b-41c1-9309-1b9cfe660a3d",
   "metadata": {},
   "outputs": [],
   "source": []
  },
  {
   "cell_type": "raw",
   "id": "f36eae18-6c28-4018-93f6-4300bf9302b2",
   "metadata": {},
   "source": [
    "Q3) Each video watched generates revenue based on ad impressions:\n",
    "First 10 views: $0.50 per view\n",
    "Next 20 views: $0.30 per view\n",
    "Remaining views: $0.10 per view\n",
    "You are given hourly views for the day. Calculate total daily revenue."
   ]
  },
  {
   "cell_type": "code",
   "execution_count": 40,
   "id": "b659e3cd-3ce9-4d53-8f50-87edd29b9775",
   "metadata": {},
   "outputs": [
    {
     "name": "stdout",
     "output_type": "stream",
     "text": [
      "Total daily revenue: $ 136.7\n"
     ]
    }
   ],
   "source": [
    "hourly_views = [5, 12, 8, 15, 20, 3, 18, 10, 25, 7, 30, 12, 6, 14, 9, 11, 16, 8, 22, 5, 19, 13, 17, 10]\n",
    "\n",
    "total_revenue = 0 \n",
    "\n",
    "for views in hourly_views:\n",
    "    revenue = 0\n",
    "    if views <= 10:\n",
    "        revenue = views * 0.50\n",
    "    elif views <= 30: \n",
    "        revenue = 10*0.50 + (views-10)*0.30\n",
    "    else: \n",
    "        revenue = 10*0.50 + 20*0.30 + (views-30)*0.10\n",
    "    total_revenue += revenue\n",
    "\n",
    "print(\"Total daily revenue: $\", total_revenue)"
   ]
  }
 ],
 "metadata": {
  "kernelspec": {
   "display_name": "Python 3 (ipykernel)",
   "language": "python",
   "name": "python3"
  },
  "language_info": {
   "codemirror_mode": {
    "name": "ipython",
    "version": 3
   },
   "file_extension": ".py",
   "mimetype": "text/x-python",
   "name": "python",
   "nbconvert_exporter": "python",
   "pygments_lexer": "ipython3",
   "version": "3.13.5"
  }
 },
 "nbformat": 4,
 "nbformat_minor": 5
}
