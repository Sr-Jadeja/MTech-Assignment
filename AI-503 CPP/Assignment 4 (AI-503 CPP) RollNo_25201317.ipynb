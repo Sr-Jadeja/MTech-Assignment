{
 "cells": [
  {
   "cell_type": "markdown",
   "id": "3ce56bf2-310d-4a34-b9cd-e2a19d413060",
   "metadata": {},
   "source": [
    "**Assignment 4 (AI-503 CPP) RollNo_25201317**"
   ]
  },
  {
   "cell_type": "code",
   "execution_count": 2,
   "id": "372248f2-bab4-4840-96a3-9247ef6fa8f8",
   "metadata": {},
   "outputs": [
    {
     "name": "stdin",
     "output_type": "stream",
     "text": [
      "Enter n to find smallest multiple divisible by 1 to n:  8\n"
     ]
    },
    {
     "name": "stdout",
     "output_type": "stream",
     "text": [
      "Smallest multiple divisible by 1 to 8 is: 840\n"
     ]
    }
   ],
   "source": [
    "# 1. Smallest Multiple\n",
    "def find_smallest_multiple(n: int):\n",
    "    if n == 1:\n",
    "        return 1\n",
    "    x = n\n",
    "    while True:\n",
    "        divisible = True\n",
    "        for i in range(1, n+1):\n",
    "            if x % i != 0:\n",
    "                divisible = False\n",
    "                break\n",
    "        if divisible:\n",
    "            return x\n",
    "        x += 1\n",
    "\n",
    "n = int(input(\"Enter n to find smallest multiple divisible by 1 to n: \"))\n",
    "print(f\"Smallest multiple divisible by 1 to {n} is: {find_smallest_multiple(n)}\")"
   ]
  },
  {
   "cell_type": "code",
   "execution_count": 4,
   "id": "efa660b6-0054-4a30-b880-8ead88fd8a17",
   "metadata": {},
   "outputs": [
    {
     "name": "stdin",
     "output_type": "stream",
     "text": [
      "Enter number to check if Armstrong:  85\n"
     ]
    },
    {
     "name": "stdout",
     "output_type": "stream",
     "text": [
      "Is 85 Armstrong? False\n"
     ]
    },
    {
     "name": "stdin",
     "output_type": "stream",
     "text": [
      "Print Armstrong numbers up to:  1000\n"
     ]
    },
    {
     "name": "stdout",
     "output_type": "stream",
     "text": [
      "0 1 153 370 371 407 \n"
     ]
    }
   ],
   "source": [
    "# 2. Armstrong functions\n",
    "def cubesum(num):\n",
    "    return sum(int(digit)**3 for digit in str(num))\n",
    "\n",
    "def isArmstrong(num):\n",
    "    return num == cubesum(num)\n",
    "\n",
    "def PrintArmstrong(limit):\n",
    "    for i in range(limit+1):\n",
    "        if isArmstrong(i):\n",
    "            print(i, end=\" \")\n",
    "    print()\n",
    "\n",
    "num = int(input(\"Enter number to check if Armstrong: \"))\n",
    "print(f\"Is {num} Armstrong? {isArmstrong(num)}\")\n",
    "limit = int(input(\"Print Armstrong numbers up to: \"))\n",
    "PrintArmstrong(limit)"
   ]
  },
  {
   "cell_type": "code",
   "execution_count": 5,
   "id": "f28617a4-e819-4ec8-8540-b4b6d70bf7ca",
   "metadata": {},
   "outputs": [
    {
     "name": "stdout",
     "output_type": "stream",
     "text": [
      "Without parentheses: 2 + 3 * 4 = 14\n",
      "With parentheses: (2 + 3) * 4 = 20\n"
     ]
    }
   ],
   "source": [
    "# 3. Operator Precedence Example\n",
    "a = 2 + 3 * 4\n",
    "b = (2 + 3) * 4\n",
    "print(f\"Without parentheses: 2 + 3 * 4 = {a}\")\n",
    "print(f\"With parentheses: (2 + 3) * 4 = {b}\")"
   ]
  },
  {
   "cell_type": "code",
   "execution_count": 6,
   "id": "34ebc8d7-5010-4f64-8aba-7b133381735c",
   "metadata": {},
   "outputs": [
    {
     "name": "stdin",
     "output_type": "stream",
     "text": [
      "Enter a decimal number:  122\n"
     ]
    },
    {
     "name": "stdout",
     "output_type": "stream",
     "text": [
      "Binary: 1111010\n",
      "Octal: 172\n",
      "Hexadecimal: 7A\n"
     ]
    }
   ],
   "source": [
    "# 4. Decimal to Binary, Octal, Hexadecimal\n",
    "dec = int(input(\"Enter a decimal number: \"))\n",
    "print(f\"Binary: {bin(dec)[2:]}\")\n",
    "print(f\"Octal: {oct(dec)[2:]}\")\n",
    "print(f\"Hexadecimal: {hex(dec)[2:].upper()}\")"
   ]
  },
  {
   "cell_type": "code",
   "execution_count": 6,
   "id": "02b11a80-552e-49fb-b237-8f84f070c550",
   "metadata": {},
   "outputs": [
    {
     "name": "stdout",
     "output_type": "stream",
     "text": [
      "Squares from 1 to 30: [1, 4, 9, 16, 25, 36, 49, 64, 81, 100, 121, 144, 169, 196, 225, 256, 289, 324, 361, 400, 441, 484, 529, 576, 625, 676, 729, 784, 841, 900]\n"
     ]
    }
   ],
   "source": [
    "# 5. Squares from 1 to 30\n",
    "squares = [i**2 for i in range(1, 31)]\n",
    "print(\"Squares from 1 to 30:\", squares)"
   ]
  },
  {
   "cell_type": "code",
   "execution_count": 7,
   "id": "3fe13a78-635f-4c04-8e13-92643832408d",
   "metadata": {},
   "outputs": [
    {
     "name": "stdin",
     "output_type": "stream",
     "text": [
      "Enter a sentence:  she sell seashells on the seashore\n"
     ]
    },
    {
     "name": "stdout",
     "output_type": "stream",
     "text": [
      "Vowels: 11, Consonants: 18, Digits: 0, Special characters: 5\n"
     ]
    }
   ],
   "source": [
    "# 6. Frequency of vowels, consonants, digits, special characters\n",
    "sentence = input(\"Enter a sentence: \")\n",
    "vowels = consonants = digits = special = 0\n",
    "for ch in sentence:\n",
    "    if ch.lower() in \"aeiou\":\n",
    "        vowels += 1\n",
    "    elif ch.isalpha():\n",
    "        consonants += 1\n",
    "    elif ch.isdigit():\n",
    "        digits += 1\n",
    "    else:\n",
    "        special += 1\n",
    "print(f\"Vowels: {vowels}, Consonants: {consonants}, Digits: {digits}, Special characters: {special}\")"
   ]
  },
  {
   "cell_type": "code",
   "execution_count": 8,
   "id": "2b6f655e-2121-4194-98b9-982fef70e460",
   "metadata": {},
   "outputs": [
    {
     "name": "stdin",
     "output_type": "stream",
     "text": [
      "Enter number of students:  3\n",
      "Enter student name:  abc\n",
      "Enter marks:  76\n",
      "Enter student name:  def\n",
      "Enter marks:  88\n",
      "Enter student name:  ghi\n",
      "Enter marks:  80\n"
     ]
    },
    {
     "name": "stdout",
     "output_type": "stream",
     "text": [
      "Student with highest marks: def (88.0)\n",
      "Student with lowest marks: abc (76.0)\n"
     ]
    }
   ],
   "source": [
    "# 7. Student dictionary\n",
    "students = {}\n",
    "n = int(input(\"Enter number of students: \"))\n",
    "for _ in range(n):\n",
    "    name = input(\"Enter student name: \")\n",
    "    marks = float(input(\"Enter marks: \"))\n",
    "    students[name] = marks\n",
    "\n",
    "highest_student = max(students, key=students.get)\n",
    "lowest_student = min(students, key=students.get)\n",
    "print(f\"Student with highest marks: {highest_student} ({students[highest_student]})\")\n",
    "print(f\"Student with lowest marks: {lowest_student} ({students[lowest_student]})\")"
   ]
  }
 ],
 "metadata": {
  "kernelspec": {
   "display_name": "Python 3 (ipykernel)",
   "language": "python",
   "name": "python3"
  },
  "language_info": {
   "codemirror_mode": {
    "name": "ipython",
    "version": 3
   },
   "file_extension": ".py",
   "mimetype": "text/x-python",
   "name": "python",
   "nbconvert_exporter": "python",
   "pygments_lexer": "ipython3",
   "version": "3.13.5"
  }
 },
 "nbformat": 4,
 "nbformat_minor": 5
}
