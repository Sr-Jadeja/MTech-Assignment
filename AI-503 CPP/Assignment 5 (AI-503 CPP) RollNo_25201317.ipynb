{
 "cells": [
  {
   "cell_type": "markdown",
   "id": "65c6db79-b91c-4d10-abc0-314554b2e744",
   "metadata": {},
   "source": [
    "**Assignment 5 (AI-503 CPP) RollNo_25201317**"
   ]
  },
  {
   "cell_type": "code",
   "execution_count": 1,
   "id": "4417bbe3-00de-4a7e-ab97-fc83d75814fd",
   "metadata": {},
   "outputs": [
    {
     "name": "stdin",
     "output_type": "stream",
     "text": [
      "Enter message to encrypt:  she sell seashells on the seashore\n",
      "Enter key string:  sell\n"
     ]
    },
    {
     "name": "stdout",
     "output_type": "stream",
     "text": [
      "Encrypted message: æÍÑæÊØØØÑÍæÍÑØßØÛá",
      "àÔØ",
      "ßÑÔØÔÛåÊ\n"
     ]
    }
   ],
   "source": [
    "def encrypt_message_vigenere(message, key):\n",
    "    encrypted = ''\n",
    "    key_len = len(key)\n",
    "    for i, c in enumerate(message):\n",
    "        shift = ord(key[i % key_len])\n",
    "        encrypted += chr(ord(c) + shift)\n",
    "    return encrypted\n",
    "\n",
    "msg = input(\"Enter message to encrypt: \")\n",
    "key = input(\"Enter key string: \")\n",
    "print(\"Encrypted message:\", encrypt_message_vigenere(msg, key))"
   ]
  },
  {
   "cell_type": "code",
   "execution_count": 2,
   "id": "8bb14db4-d050-43e0-8e29-a06a2eab205b",
   "metadata": {},
   "outputs": [
    {
     "name": "stdin",
     "output_type": "stream",
     "text": [
      "Enter string:  Today is monday\n",
      "Enter character to find:  i\n"
     ]
    },
    {
     "name": "stdout",
     "output_type": "stream",
     "text": [
      "Character 'i' found at indices: [6]\n"
     ]
    }
   ],
   "source": [
    "# Q2: Find character in string and print indices\n",
    "def find_char_indices(s, ch):\n",
    "    indices = [i for i in range(len(s)) if s[i] == ch]\n",
    "    return indices\n",
    "\n",
    "s = input(\"Enter string: \")\n",
    "c = input(\"Enter character to find: \")\n",
    "indices = find_char_indices(s, c)\n",
    "if indices:\n",
    "    print(f\"Character '{c}' found at indices:\", indices)\n",
    "else:\n",
    "    print(f\"Character '{c}' not found\")"
   ]
  },
  {
   "cell_type": "code",
   "execution_count": 3,
   "id": "7487c354-d105-4ab2-b0a9-9eb2006bf3b2",
   "metadata": {},
   "outputs": [
    {
     "name": "stdin",
     "output_type": "stream",
     "text": [
      "Enter string:  she sell seashells on the seashore\n",
      "Enter character to count:  s\n"
     ]
    },
    {
     "name": "stdout",
     "output_type": "stream",
     "text": [
      "Character 's' occurs 7 times\n"
     ]
    }
   ],
   "source": [
    "# Q3: Count occurrences of character\n",
    "def count_char(s, ch):\n",
    "    count = 0\n",
    "    for char in s:\n",
    "        if char == ch:\n",
    "            count += 1\n",
    "    return count\n",
    "\n",
    "s = input(\"Enter string: \")\n",
    "c = input(\"Enter character to count: \")\n",
    "print(f\"Character '{c}' occurs {count_char(s, c)} times\")"
   ]
  },
  {
   "cell_type": "code",
   "execution_count": 4,
   "id": "c8d199ef-9d04-4880-9960-a493dc4552aa",
   "metadata": {},
   "outputs": [
    {
     "name": "stdin",
     "output_type": "stream",
     "text": [
      "Enter string:  winter summer monsoon\n"
     ]
    },
    {
     "name": "stdout",
     "output_type": "stream",
     "text": [
      "Result: onononon\n"
     ]
    }
   ],
   "source": [
    "# Q4: Four copies of last two characters\n",
    "def four_copies_last_two(s):\n",
    "    if len(s) < 2:\n",
    "        return \"String too short\"\n",
    "    return s[-2:] * 4\n",
    "\n",
    "s = input(\"Enter string: \")\n",
    "print(f\"Result:\", four_copies_last_two(s))"
   ]
  },
  {
   "cell_type": "code",
   "execution_count": 8,
   "id": "5ccc92a9-1924-44bf-b058-47f81beac738",
   "metadata": {},
   "outputs": [
    {
     "name": "stdin",
     "output_type": "stream",
     "text": [
      "Enter string:  she sell seashells on the seashore\n"
     ]
    },
    {
     "name": "stdout",
     "output_type": "stream",
     "text": [
      "Result: she sell seashells on the seashore\n"
     ]
    }
   ],
   "source": [
    "# Q5: Reverse string if length multiple of 4\n",
    "def reverse_if_multiple_of_four(s):\n",
    "    if len(s) % 4 == 0:\n",
    "        return s[::-1]\n",
    "    return s\n",
    "\n",
    "s = input(\"Enter string: \")\n",
    "print(f\"Result:\", reverse_if_multiple_of_four(s))"
   ]
  },
  {
   "cell_type": "code",
   "execution_count": 9,
   "id": "84d63a0a-44f0-45b8-95e2-9ff4070589fe",
   "metadata": {},
   "outputs": [
    {
     "name": "stdin",
     "output_type": "stream",
     "text": [
      "Enter string:  Rainy season is coming.\n"
     ]
    },
    {
     "name": "stdout",
     "output_type": "stream",
     "text": [
      "Contains vowel: True\n"
     ]
    }
   ],
   "source": [
    "# Q6: Check if string has at least one vowel\n",
    "def has_vowel(s):\n",
    "    vowels = \"aeiouAEIOU\"\n",
    "    for c in s:\n",
    "        if c in vowels:\n",
    "            return True\n",
    "    return False\n",
    "\n",
    "s = input(\"Enter string: \")\n",
    "print(\"Contains vowel:\" , has_vowel(s))"
   ]
  },
  {
   "cell_type": "code",
   "execution_count": 10,
   "id": "bdcf8a2d-2490-418b-95e7-f47ffd991a3e",
   "metadata": {},
   "outputs": [
    {
     "name": "stdin",
     "output_type": "stream",
     "text": [
      "Enter string to check regex pattern:  Last day of the month is wednesday.\n"
     ]
    },
    {
     "name": "stdout",
     "output_type": "stream",
     "text": [
      "Matches pattern: False\n"
     ]
    }
   ],
   "source": [
    "# Q7: Regex match strings starting with digits, followed by space, then arbitrary characters\n",
    "import re\n",
    "def match_pattern(s):\n",
    "    pattern = r'^\\d+ .+'\n",
    "    return bool(re.match(pattern, s))\n",
    "\n",
    "s = input(\"Enter string to check regex pattern: \")\n",
    "print(\"Matches pattern:\", match_pattern(s))"
   ]
  },
  {
   "cell_type": "code",
   "execution_count": 11,
   "id": "148e1f45-9640-414f-8302-e6032fdbc32d",
   "metadata": {},
   "outputs": [
    {
     "name": "stdin",
     "output_type": "stream",
     "text": [
      "Enter string:  Last day of the month is wednesday.\n"
     ]
    },
    {
     "name": "stdout",
     "output_type": "stream",
     "text": [
      "First two chars (simple): ['La', 'da', 'of', 'th', 'mo', 'is', 'we']\n",
      "First two chars (regex): ['La', 'da', 'of', 'th', 'mo', 'is', 'we']\n"
     ]
    }
   ],
   "source": [
    "# Q8: Print first two characters of every word\n",
    "def first_two_chars_simple(s):\n",
    "    words = s.split()\n",
    "    return [w[:2] for w in words]\n",
    "\n",
    "def first_two_chars_regex(s):\n",
    "    return re.findall(r'\\b(\\w{1,2})', s)\n",
    "\n",
    "s = input(\"Enter string: \")\n",
    "print(\"First two chars (simple):\", first_two_chars_simple(s))\n",
    "print(\"First two chars (regex):\", first_two_chars_regex(s))"
   ]
  }
 ],
 "metadata": {
  "kernelspec": {
   "display_name": "Python 3 (ipykernel)",
   "language": "python",
   "name": "python3"
  },
  "language_info": {
   "codemirror_mode": {
    "name": "ipython",
    "version": 3
   },
   "file_extension": ".py",
   "mimetype": "text/x-python",
   "name": "python",
   "nbconvert_exporter": "python",
   "pygments_lexer": "ipython3",
   "version": "3.13.5"
  }
 },
 "nbformat": 4,
 "nbformat_minor": 5
}
