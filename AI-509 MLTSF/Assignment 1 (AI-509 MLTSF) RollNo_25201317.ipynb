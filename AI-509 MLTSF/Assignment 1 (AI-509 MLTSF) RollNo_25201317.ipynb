{
 "cells": [
  {
   "cell_type": "markdown",
   "id": "82e1f753-358d-4fb2-98e9-bb467fe861ee",
   "metadata": {},
   "source": [
    "**Assignment 1 (AI-509 MLTSF) RollNo_25201317**"
   ]
  },
  {
   "cell_type": "markdown",
   "id": "dd00979d-d4a1-4c54-8336-9de739c4cd00",
   "metadata": {},
   "source": [
    "Q) A hostel mess records the daily food consumption (in kilograms) for 9 consecutive days as shown below: <br> \n",
    "Food Consumption(kg)=[105, 98, 110, 108, 103, 107, 100, 112, 109] <br>\n",
    "The consumption is to be modeled using a Moving Average model, given by the equation: <br>\n",
    "$J_t = \\mu + \\phi \\varepsilon_{t-1}$  <br>\n",
    "$J_t$ = Predicted value at time 𝑡<br>\n",
    "$\\mu$ = Mean of the series (assume $\\mu$ = 105)<br>\n",
    "$\\phi$ = Model parameter (assume $\\phi$ = 0.6)<br>\n",
    "$\\varepsilon_{t-1}$ = Forecast error from the previous time step <br>\n",
    "<br>\n",
    "Compute the predicted values and forecast errors for each day, and forecast the food consumption for Day 10."
   ]
  },
  {
   "cell_type": "code",
   "execution_count": 27,
   "id": "e8b0bb99-e5a6-4a7d-b9b2-0836c6b1d770",
   "metadata": {},
   "outputs": [
    {
     "name": "stdout",
     "output_type": "stream",
     "text": [
      "Day  Actual    Predicted   Error     \n",
      "1    105       None        None      \n",
      "2    98        105         -7        \n",
      "3    110       100.8       9.2       \n",
      "4    108       110.52      -2.52     \n",
      "5    103       103.49      -0.49     \n",
      "6    107       104.71      2.29      \n",
      "7    100       106.37      -6.37     \n",
      "8    112       101.18      10.82     \n",
      "9    109       111.49      -2.49     \n",
      "Prediction for Day 10 = 103.51 kg\n"
     ]
    }
   ],
   "source": [
    "data = [105, 98, 110, 108, 103, 107, 100, 112, 109]\n",
    "mu = 105\n",
    "phi = 0.6\n",
    "predictions = [None]\n",
    "errors = [None]\n",
    "\n",
    "for i in range(1, len(data)):\n",
    "    if i == 1:\n",
    "        pred = mu\n",
    "    else:\n",
    "        pred = mu + phi * errors[i-1] \n",
    "    err = actual[i] - pred\n",
    "    \n",
    "    predictions.append(round(pred, 2))\n",
    "    errors.append(round(err, 2))\n",
    "\n",
    "forecast_day10 = mu + phi * errors[-1]\n",
    "\n",
    "print(f\"{'Day':<5}{'Actual':<10}{'Predicted':<12}{'Error':<10}\")\n",
    "for i in range(len(actual)):\n",
    "    print(f\"{i+1:<5}{data[i]:<10}{str(predictions[i]):<12}{str(errors[i]):<10}\")\n",
    "\n",
    "print(f\"Prediction for Day 10 = {round(forecast_day10, 2)} kg\")\n"
   ]
  },
  {
   "cell_type": "code",
   "execution_count": null,
   "id": "792ca6ae-c648-4c55-97cf-bf958925ddc5",
   "metadata": {},
   "outputs": [],
   "source": []
  }
 ],
 "metadata": {
  "kernelspec": {
   "display_name": "Python 3 (ipykernel)",
   "language": "python",
   "name": "python3"
  },
  "language_info": {
   "codemirror_mode": {
    "name": "ipython",
    "version": 3
   },
   "file_extension": ".py",
   "mimetype": "text/x-python",
   "name": "python",
   "nbconvert_exporter": "python",
   "pygments_lexer": "ipython3",
   "version": "3.13.5"
  }
 },
 "nbformat": 4,
 "nbformat_minor": 5
}
