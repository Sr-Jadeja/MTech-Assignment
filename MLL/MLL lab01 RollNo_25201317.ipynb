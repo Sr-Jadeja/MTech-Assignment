{
 "cells": [
  {
   "cell_type": "markdown",
   "id": "9bc3ad3f-d91e-4a68-9897-ce0c81402b23",
   "metadata": {},
   "source": [
    "**Linear regression model**"
   ]
  },
  {
   "cell_type": "code",
   "execution_count": 23,
   "id": "424fd87b-576f-4d91-ba60-500334123f77",
   "metadata": {},
   "outputs": [],
   "source": [
    "X=[0,1,2,3,3,5,5,5,6,7,7,10]\n",
    "Y=[96,85,82,74,95,68,76,84,58,65,75,50]"
   ]
  },
  {
   "cell_type": "code",
   "execution_count": 24,
   "id": "43bc61c2-11dc-43b5-9580-6e8338f0d9a9",
   "metadata": {},
   "outputs": [
    {
     "name": "stdout",
     "output_type": "stream",
     "text": [
      "54 908 3724 332 12\n"
     ]
    }
   ],
   "source": [
    "#calculate required parameters, which required for slope'm'\n",
    "sumX=0\n",
    "sumY=0\n",
    "sumXY=0\n",
    "sumXsquare=0\n",
    "n=0\n",
    "\n",
    "for i in range(len(x)):\n",
    "    sumX+=X[i]\n",
    "    sumY+=Y[i]\n",
    "    sumXY+=(X[i])*(Y[i])\n",
    "    sumXsquare+=(X[i])*(X[i])\n",
    "    n+=1\n",
    "\n",
    "print(sumX,sumY,sumXY,sumXsquare,n)"
   ]
  },
  {
   "cell_type": "code",
   "execution_count": 25,
   "id": "0ac41b37-9554-4bf8-af16-11a68e66274e",
   "metadata": {},
   "outputs": [
    {
     "name": "stdout",
     "output_type": "stream",
     "text": [
      "Slope of the model is:  -4.067415730337078\n"
     ]
    }
   ],
   "source": [
    "#Calculate slope'm'\n",
    "m=((n*sumXY)-(sumX*sumY))/((n*sumXsquare)-((sumX)**2))\n",
    "print(\"Slope of the model is: \",m)"
   ]
  },
  {
   "cell_type": "code",
   "execution_count": 26,
   "id": "f00d0826-7edd-4c29-93c1-b50f33f9d233",
   "metadata": {},
   "outputs": [
    {
     "name": "stdout",
     "output_type": "stream",
     "text": [
      "Intercept of the model is:  93.97003745318352\n"
     ]
    }
   ],
   "source": [
    "#Calculate intercept'c'\n",
    "c=(sumY/n)-(m*(sumX/n))\n",
    "print(\"Intercept of the model is: \",c)"
   ]
  },
  {
   "cell_type": "code",
   "execution_count": 27,
   "id": "79a73b8f-4bcd-46d0-aec5-1e51b5a61d57",
   "metadata": {},
   "outputs": [
    {
     "name": "stdin",
     "output_type": "stream",
     "text": [
      "Enter the number of hours:  9\n"
     ]
    },
    {
     "name": "stdout",
     "output_type": "stream",
     "text": [
      "Total marks for 9 hours are:  57.36329588014982\n"
     ]
    }
   ],
   "source": [
    "#LR model\n",
    "b=int(input(\"Enter the number of hours: \"))\n",
    "a=(m*b)+c\n",
    "print(f\"Total marks for {b} hours are: \",a)"
   ]
  },
  {
   "cell_type": "code",
   "execution_count": null,
   "id": "0b7d54d7-e529-4648-b6d2-d47fca133f0e",
   "metadata": {},
   "outputs": [],
   "source": []
  }
 ],
 "metadata": {
  "kernelspec": {
   "display_name": "Python 3 (ipykernel)",
   "language": "python",
   "name": "python3"
  },
  "language_info": {
   "codemirror_mode": {
    "name": "ipython",
    "version": 3
   },
   "file_extension": ".py",
   "mimetype": "text/x-python",
   "name": "python",
   "nbconvert_exporter": "python",
   "pygments_lexer": "ipython3",
   "version": "3.13.5"
  }
 },
 "nbformat": 4,
 "nbformat_minor": 5
}
