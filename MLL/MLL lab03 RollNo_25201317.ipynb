{
 "cells": [
  {
   "cell_type": "markdown",
   "id": "9bc3ad3f-d91e-4a68-9897-ce0c81402b23",
   "metadata": {},
   "source": [
    "**Logistic Regression From Scratch in Python**"
   ]
  },
  {
   "cell_type": "code",
   "execution_count": 40,
   "id": "0b7d54d7-e529-4648-b6d2-d47fca133f0e",
   "metadata": {},
   "outputs": [],
   "source": [
    "import numpy as np\n",
    "\n",
    "def sigmoid(z):\n",
    "    return 1.0 / (1.0 + np.exp(-z))"
   ]
  },
  {
   "cell_type": "code",
   "execution_count": 41,
   "id": "c627cab7-87b7-4137-8735-607c98e72ca6",
   "metadata": {},
   "outputs": [],
   "source": [
    "def calculate_gradient(theta, x, y):\n",
    "    m=y.size #number of instances\n",
    "    return (x.T @ (sigmoid(x @ theta) - y) / m)"
   ]
  },
  {
   "cell_type": "code",
   "execution_count": 42,
   "id": "a8e8b6e0-5a6f-4951-bef8-8f6194201cd9",
   "metadata": {},
   "outputs": [],
   "source": [
    "def gradient_descent(x, y, alpha=0.1, num_iter=100, tol=1e-7):\n",
    "    x_b = np.c_[np.ones((x.shape[0], 1)), x]\n",
    "    theta = np.zeros(x_b.shape[1])\n",
    "\n",
    "    for i in range(num_iter):\n",
    "        grad = calculate_gradient(theta, x_b, y)\n",
    "        theta -= alpha * grad\n",
    "\n",
    "        if np.linalg.norm(grad) < tol:\n",
    "            break\n",
    "\n",
    "    return theta"
   ]
  },
  {
   "cell_type": "code",
   "execution_count": 43,
   "id": "6cca6cdb-9731-4ea0-8f4e-59b6648692de",
   "metadata": {},
   "outputs": [],
   "source": [
    "def predict_proba(x, theta):\n",
    "    x_b = np.c_[np.ones((x.shape[0], 1)), x]\n",
    "    return sigmoid(x_b @ theta)"
   ]
  },
  {
   "cell_type": "code",
   "execution_count": 44,
   "id": "4fbe187b-85e9-49db-8f7e-7853c91a6268",
   "metadata": {},
   "outputs": [],
   "source": [
    "def predict(x, theta, threshold=0.5):\n",
    "    return (predict_proba(x, theta) >= threshold).astype(int)"
   ]
  },
  {
   "cell_type": "code",
   "execution_count": 45,
   "id": "622b613d-35d6-43b5-a04f-22507b4fd081",
   "metadata": {},
   "outputs": [
    {
     "name": "stdout",
     "output_type": "stream",
     "text": [
      "0.9802197802197802\n",
      "0.9736842105263158\n"
     ]
    }
   ],
   "source": [
    "from sklearn.datasets import load_breast_cancer\n",
    "from sklearn.preprocessing import StandardScaler\n",
    "from sklearn.model_selection import train_test_split\n",
    "from sklearn.metrics import accuracy_score\n",
    "\n",
    "x, y =load_breast_cancer(return_X_y=True)\n",
    "x_train, x_test, y_train, y_test = train_test_split(x, y, test_size=0.2)\n",
    "\n",
    "scaler = StandardScaler()\n",
    "\n",
    "x_train_scaled =scaler.fit_transform(x_train)\n",
    "x_test_scaled =scaler.transform(x_test)\n",
    "\n",
    "theta_hat = gradient_descent(x_train_scaled, y_train, alpha=0.1)\n",
    "\n",
    "y_pred_train = predict(x_train_scaled, theta_hat)\n",
    "y_pred_test = predict(x_test_scaled, theta_hat)\n",
    "\n",
    "train_acc = accuracy_score(y_train, y_pred_train)\n",
    "test_acc = accuracy_score(y_test, y_pred_test)\n",
    "\n",
    "print(train_acc)\n",
    "print(test_acc)"
   ]
  }
 ],
 "metadata": {
  "kernelspec": {
   "display_name": "Python 3 (ipykernel)",
   "language": "python",
   "name": "python3"
  },
  "language_info": {
   "codemirror_mode": {
    "name": "ipython",
    "version": 3
   },
   "file_extension": ".py",
   "mimetype": "text/x-python",
   "name": "python",
   "nbconvert_exporter": "python",
   "pygments_lexer": "ipython3",
   "version": "3.13.5"
  }
 },
 "nbformat": 4,
 "nbformat_minor": 5
}
