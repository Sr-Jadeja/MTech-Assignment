{
 "cells": [
  {
   "cell_type": "code",
   "execution_count": 2,
   "id": "e8e514c9-b5ed-4ea7-93a6-85c9a9dd75c1",
   "metadata": {},
   "outputs": [],
   "source": [
    "#Python Operators"
   ]
  },
  {
   "cell_type": "code",
   "execution_count": 1,
   "id": "4db6e133-c9e3-4a2a-b257-560e87a21cad",
   "metadata": {},
   "outputs": [
    {
     "name": "stdout",
     "output_type": "stream",
     "text": [
      "goodmorning\n"
     ]
    }
   ],
   "source": [
    "print('good'+'morning')"
   ]
  },
  {
   "cell_type": "code",
   "execution_count": 2,
   "id": "9776a4df-12b8-44a4-afde-624984f6ddfc",
   "metadata": {},
   "outputs": [
    {
     "ename": "TypeError",
     "evalue": "can only concatenate str (not \"int\") to str",
     "output_type": "error",
     "traceback": [
      "\u001b[31m---------------------------------------------------------------------------\u001b[39m",
      "\u001b[31mTypeError\u001b[39m                                 Traceback (most recent call last)",
      "\u001b[36mCell\u001b[39m\u001b[36m \u001b[39m\u001b[32mIn[2]\u001b[39m\u001b[32m, line 1\u001b[39m\n\u001b[32m----> \u001b[39m\u001b[32m1\u001b[39m \u001b[38;5;28mprint\u001b[39m(\u001b[33;43m'\u001b[39;49m\u001b[33;43mpython\u001b[39;49m\u001b[33;43m'\u001b[39;49m\u001b[43m+\u001b[49m\u001b[32;43m39\u001b[39;49m)\n",
      "\u001b[31mTypeError\u001b[39m: can only concatenate str (not \"int\") to str"
     ]
    }
   ],
   "source": [
    "print('python'+39)"
   ]
  },
  {
   "cell_type": "code",
   "execution_count": 3,
   "id": "34854984-315b-4230-8577-178ea70ac4fe",
   "metadata": {},
   "outputs": [
    {
     "name": "stdout",
     "output_type": "stream",
     "text": [
      "python39\n"
     ]
    }
   ],
   "source": [
    "print('python'+'39')"
   ]
  },
  {
   "cell_type": "code",
   "execution_count": 4,
   "id": "df62aa1f-5ea7-4bd4-8b96-1ec2cdc10293",
   "metadata": {},
   "outputs": [
    {
     "name": "stdout",
     "output_type": "stream",
     "text": [
      "1234\n"
     ]
    }
   ],
   "source": [
    "print('12'+'34')"
   ]
  },
  {
   "cell_type": "code",
   "execution_count": 3,
   "id": "0cbe2ee6-d08e-4dc9-89a0-d8e1c8762f45",
   "metadata": {},
   "outputs": [
    {
     "name": "stdout",
     "output_type": "stream",
     "text": [
      "goodgoodgoodgoodgood\n"
     ]
    }
   ],
   "source": [
    "print(\"good\"*5)"
   ]
  },
  {
   "cell_type": "code",
   "execution_count": 4,
   "id": "ffeb2134-0023-4b7c-adc7-06167d076636",
   "metadata": {},
   "outputs": [
    {
     "name": "stdout",
     "output_type": "stream",
     "text": [
      "goodgoodgoodgoodgood\n"
     ]
    }
   ],
   "source": [
    "print(5*'good')"
   ]
  },
  {
   "cell_type": "code",
   "execution_count": 5,
   "id": "f4d8494a-2aa6-4ee8-84b4-cf2974986dd4",
   "metadata": {},
   "outputs": [
    {
     "ename": "SyntaxError",
     "evalue": "unterminated string literal (detected at line 1) (3137812194.py, line 1)",
     "output_type": "error",
     "traceback": [
      "  \u001b[36mCell\u001b[39m\u001b[36m \u001b[39m\u001b[32mIn[5]\u001b[39m\u001b[32m, line 1\u001b[39m\n\u001b[31m    \u001b[39m\u001b[31mprint('good'*''5')\u001b[39m\n                    ^\n\u001b[31mSyntaxError\u001b[39m\u001b[31m:\u001b[39m unterminated string literal (detected at line 1)\n"
     ]
    }
   ],
   "source": [
    "print('good'*''5')"
   ]
  },
  {
   "cell_type": "code",
   "execution_count": 6,
   "id": "4bb4d033-a85d-4549-9eab-ed7aec8c0bc3",
   "metadata": {},
   "outputs": [
    {
     "ename": "TypeError",
     "evalue": "can't multiply sequence by non-int of type 'float'",
     "output_type": "error",
     "traceback": [
      "\u001b[31m---------------------------------------------------------------------------\u001b[39m",
      "\u001b[31mTypeError\u001b[39m                                 Traceback (most recent call last)",
      "\u001b[36mCell\u001b[39m\u001b[36m \u001b[39m\u001b[32mIn[6]\u001b[39m\u001b[32m, line 1\u001b[39m\n\u001b[32m----> \u001b[39m\u001b[32m1\u001b[39m \u001b[38;5;28mprint\u001b[39m(\u001b[33;43m\"\u001b[39;49m\u001b[33;43mgood\u001b[39;49m\u001b[33;43m\"\u001b[39;49m\u001b[43m*\u001b[49m\u001b[32;43m5.0\u001b[39;49m)\n",
      "\u001b[31mTypeError\u001b[39m: can't multiply sequence by non-int of type 'float'"
     ]
    }
   ],
   "source": [
    "print(\"good\"*5.0)"
   ]
  },
  {
   "cell_type": "code",
   "execution_count": 7,
   "id": "f9a1d170-017c-4bc7-9d28-cd1f152b0d3d",
   "metadata": {},
   "outputs": [
    {
     "data": {
      "text/plain": [
       "'Slicing'"
      ]
     },
     "execution_count": 7,
     "metadata": {},
     "output_type": "execute_result"
    }
   ],
   "source": [
    "'''Slicing'''"
   ]
  },
  {
   "cell_type": "code",
   "execution_count": 10,
   "id": "e9c26f07-7adf-4d13-b4a9-b94abd82879f",
   "metadata": {},
   "outputs": [
    {
     "name": "stdout",
     "output_type": "stream",
     "text": [
      "Python is Easy!!!\n",
      "P\n"
     ]
    }
   ],
   "source": [
    "str=\"Python is Easy!!!\"\n",
    "print(str[:])\n",
    "print(str[0])"
   ]
  },
  {
   "cell_type": "code",
   "execution_count": 11,
   "id": "2aaa8158-be0d-4e3d-a612-712d993a147c",
   "metadata": {},
   "outputs": [
    {
     "name": "stdout",
     "output_type": "stream",
     "text": [
      "hon is\n"
     ]
    }
   ],
   "source": [
    "print(str[3:9])"
   ]
  },
  {
   "cell_type": "code",
   "execution_count": 12,
   "id": "444f0c2e-2018-4251-b11b-08f1dbdee786",
   "metadata": {},
   "outputs": [
    {
     "name": "stdout",
     "output_type": "stream",
     "text": [
      "on is Easy!!!\n",
      "!\n",
      "Pytho\n"
     ]
    }
   ],
   "source": [
    "print(str[4:])\n",
    "print(str[-1])\n",
    "print(str[:5])"
   ]
  },
  {
   "cell_type": "code",
   "execution_count": 15,
   "id": "7e24fad0-272a-4e20-94d1-efa3d303d19f",
   "metadata": {},
   "outputs": [
    {
     "ename": "SyntaxError",
     "evalue": "unterminated string literal (detected at line 1) (1085844139.py, line 1)",
     "output_type": "error",
     "traceback": [
      "  \u001b[36mCell\u001b[39m\u001b[36m \u001b[39m\u001b[32mIn[15]\u001b[39m\u001b[32m, line 1\u001b[39m\n\u001b[31m    \u001b[39m\u001b[31mprint('What's your name?')\u001b[39m\n                            ^\n\u001b[31mSyntaxError\u001b[39m\u001b[31m:\u001b[39m unterminated string literal (detected at line 1)\n"
     ]
    }
   ],
   "source": [
    "print('What's your name?')"
   ]
  },
  {
   "cell_type": "code",
   "execution_count": 16,
   "id": "cb5f241a-9dd8-483b-9521-83d3ab441cdb",
   "metadata": {},
   "outputs": [
    {
     "name": "stdout",
     "output_type": "stream",
     "text": [
      "What's your name?\n"
     ]
    }
   ],
   "source": [
    "print(\"What's your name?\")"
   ]
  },
  {
   "cell_type": "code",
   "execution_count": 19,
   "id": "e6294e7b-c8d2-415b-b281-0998f12ca748",
   "metadata": {},
   "outputs": [
    {
     "name": "stdout",
     "output_type": "stream",
     "text": [
      "What's your name?\n"
     ]
    }
   ],
   "source": [
    "print('What\\'s your name?')"
   ]
  },
  {
   "cell_type": "code",
   "execution_count": 21,
   "id": "6a5bc037-8737-46dd-af04-66c75186fc94",
   "metadata": {},
   "outputs": [
    {
     "ename": "SyntaxError",
     "evalue": "unterminated string literal (detected at line 1) (1240139340.py, line 1)",
     "output_type": "error",
     "traceback": [
      "  \u001b[36mCell\u001b[39m\u001b[36m \u001b[39m\u001b[32mIn[21]\u001b[39m\u001b[32m, line 1\u001b[39m\n\u001b[31m    \u001b[39m\u001b[31mprint(\"The boy replies, \"My name is Aditya\")\u001b[39m\n                                              ^\n\u001b[31mSyntaxError\u001b[39m\u001b[31m:\u001b[39m unterminated string literal (detected at line 1)\n"
     ]
    }
   ],
   "source": [
    "print(\"The boy replies, \"My name is Aditya\")"
   ]
  },
  {
   "cell_type": "code",
   "execution_count": 25,
   "id": "32ac91c4-ab52-4a20-a30e-aa09e755f846",
   "metadata": {},
   "outputs": [
    {
     "name": "stdout",
     "output_type": "stream",
     "text": [
      "The boy replies, \"My name is Aditya\"\n"
     ]
    }
   ],
   "source": [
    "print(\"The boy replies, \\\"My name is Aditya\\\"\")"
   ]
  },
  {
   "cell_type": "code",
   "execution_count": 34,
   "id": "87cd91ba-2e53-448e-9fe1-b0d8ed34a75f",
   "metadata": {},
   "outputs": [
    {
     "name": "stdout",
     "output_type": "stream",
     "text": [
      "The boy replies \n",
      "My name is Aditya\n"
     ]
    }
   ],
   "source": [
    "print(\"The boy replies \\nMy name is Aditya\")"
   ]
  },
  {
   "cell_type": "code",
   "execution_count": 35,
   "id": "0206f635-ead8-4130-bde1-f026319eeeae",
   "metadata": {},
   "outputs": [
    {
     "name": "stdout",
     "output_type": "stream",
     "text": [
      "The boy replies, \t My name is Aditya\n"
     ]
    }
   ],
   "source": [
    "print(\"The boy replies, \\t My name is Aditya\")"
   ]
  },
  {
   "cell_type": "code",
   "execution_count": 37,
   "id": "ff077966-bc5b-4a88-88dc-7fc4e75be89b",
   "metadata": {},
   "outputs": [
    {
     "name": "stdout",
     "output_type": "stream",
     "text": [
      "The boy replies \\ My name is Aditya\n"
     ]
    },
    {
     "name": "stderr",
     "output_type": "stream",
     "text": [
      "<>:1: SyntaxWarning: invalid escape sequence '\\ '\n",
      "<>:1: SyntaxWarning: invalid escape sequence '\\ '\n",
      "C:\\Users\\ssinh\\AppData\\Local\\Temp\\ipykernel_16100\\2711840650.py:1: SyntaxWarning: invalid escape sequence '\\ '\n",
      "  print(\"The boy replies \\ My name is Aditya\")\n"
     ]
    }
   ],
   "source": [
    "print(\"The boy replies \\ My name is Aditya\")"
   ]
  },
  {
   "cell_type": "code",
   "execution_count": 38,
   "id": "b0ffd980-920c-4eb2-9be4-37a5f043dccf",
   "metadata": {},
   "outputs": [
    {
     "name": "stdout",
     "output_type": "stream",
     "text": [
      "\\o56\n"
     ]
    },
    {
     "name": "stderr",
     "output_type": "stream",
     "text": [
      "<>:1: SyntaxWarning: invalid escape sequence '\\o'\n",
      "<>:1: SyntaxWarning: invalid escape sequence '\\o'\n",
      "C:\\Users\\ssinh\\AppData\\Local\\Temp\\ipykernel_16100\\11131020.py:1: SyntaxWarning: invalid escape sequence '\\o'\n",
      "  print(\"\\o56\")\n"
     ]
    }
   ],
   "source": [
    "print(\"\\o56\")"
   ]
  },
  {
   "cell_type": "code",
   "execution_count": 39,
   "id": "c6c9a371-c22e-483f-b7ec-1187ad8699cc",
   "metadata": {},
   "outputs": [
    {
     "name": "stdout",
     "output_type": "stream",
     "text": [
      ".\n"
     ]
    }
   ],
   "source": [
    "print(\"\\056\")"
   ]
  },
  {
   "cell_type": "code",
   "execution_count": 40,
   "id": "96e823b8-174e-48b0-9a42-4aaa03f33421",
   "metadata": {},
   "outputs": [
    {
     "name": "stdout",
     "output_type": "stream",
     "text": [
      ".\n"
     ]
    }
   ],
   "source": [
    "print(\"\\x2E\")"
   ]
  },
  {
   "cell_type": "code",
   "execution_count": 41,
   "id": "1bf78edd-3207-474b-ba90-d37ca202bfbc",
   "metadata": {},
   "outputs": [
    {
     "name": "stdout",
     "output_type": "stream",
     "text": [
      "\n"
     ]
    }
   ],
   "source": [
    "print(\"\\x87\")"
   ]
  },
  {
   "cell_type": "code",
   "execution_count": 42,
   "id": "409d5db2-626a-43b5-a792-a8e6e9f53392",
   "metadata": {},
   "outputs": [
    {
     "name": "stdout",
     "output_type": "stream",
     "text": [
      "\\\n"
     ]
    }
   ],
   "source": [
    "print(\"\\\\\")"
   ]
  },
  {
   "cell_type": "code",
   "execution_count": 43,
   "id": "3d2be997-f91b-4692-beae-82d48981ef89",
   "metadata": {},
   "outputs": [
    {
     "name": "stdout",
     "output_type": "stream",
     "text": [
      "'\n"
     ]
    }
   ],
   "source": [
    "print(\"\\'\")"
   ]
  },
  {
   "cell_type": "code",
   "execution_count": 44,
   "id": "1d1cc06c-f94a-466b-8a5b-86abf79ccd9d",
   "metadata": {},
   "outputs": [
    {
     "name": "stdout",
     "output_type": "stream",
     "text": [
      "\"\n"
     ]
    }
   ],
   "source": [
    "print(\"\\\"\")"
   ]
  },
  {
   "cell_type": "code",
   "execution_count": 45,
   "id": "ea4b8cb6-d26f-4e4c-b288-4037a4313096",
   "metadata": {},
   "outputs": [
    {
     "name": "stdout",
     "output_type": "stream",
     "text": [
      "Hello \n",
      " World\n"
     ]
    }
   ],
   "source": [
    "print(\"Hello \\n World\")"
   ]
  },
  {
   "cell_type": "code",
   "execution_count": 46,
   "id": "565f1e9d-48bd-42a8-b417-909b9fbbe896",
   "metadata": {},
   "outputs": [
    {
     "name": "stdout",
     "output_type": "stream",
     "text": [
      "Hello \t World\n"
     ]
    }
   ],
   "source": [
    "print(\"Hello \\t World\")"
   ]
  },
  {
   "cell_type": "code",
   "execution_count": 48,
   "id": "4ddf11d7-ae58-4ce3-a94a-04d7315de741",
   "metadata": {},
   "outputs": [],
   "source": [
    "#Convert to different base number"
   ]
  },
  {
   "cell_type": "code",
   "execution_count": 60,
   "id": "e8418db9-b62e-42c0-9516-f816920fcc14",
   "metadata": {},
   "outputs": [
    {
     "name": "stdout",
     "output_type": "stream",
     "text": [
      "decimal: 27\n"
     ]
    }
   ],
   "source": [
    "num=0b11011\n",
    "print('decimal:', int(num))"
   ]
  },
  {
   "cell_type": "code",
   "execution_count": 51,
   "id": "03807d2b-878a-4091-a104-7da8e23004c4",
   "metadata": {},
   "outputs": [
    {
     "name": "stdout",
     "output_type": "stream",
     "text": [
      "octal: 0o63\n"
     ]
    }
   ],
   "source": [
    "num=51\n",
    "print('octal:', oct(num))"
   ]
  },
  {
   "cell_type": "code",
   "execution_count": 59,
   "id": "61bee042-e993-4648-a3a5-7e7b49bac52c",
   "metadata": {},
   "outputs": [
    {
     "name": "stdout",
     "output_type": "stream",
     "text": [
      "decimal: 240\n"
     ]
    }
   ],
   "source": [
    "num=0o360\n",
    "print('decimal:', int(num))"
   ]
  },
  {
   "cell_type": "code",
   "execution_count": 54,
   "id": "ed0bdfa8-f696-4473-9d64-1221e4d97022",
   "metadata": {},
   "outputs": [
    {
     "name": "stdout",
     "output_type": "stream",
     "text": [
      "hexa: 0x33\n"
     ]
    }
   ],
   "source": [
    "num=51\n",
    "print('hexa:', hex(num))"
   ]
  },
  {
   "cell_type": "code",
   "execution_count": 57,
   "id": "f883b169-2f75-44d9-815f-69a5872129ca",
   "metadata": {},
   "outputs": [
    {
     "name": "stdout",
     "output_type": "stream",
     "text": [
      "decimal: 51\n"
     ]
    }
   ],
   "source": [
    "num=0x33\n",
    "print('decimal:', int(num))"
   ]
  },
  {
   "cell_type": "code",
   "execution_count": 61,
   "id": "f1a6a341-d7b2-46db-b126-5794e2180194",
   "metadata": {},
   "outputs": [],
   "source": [
    "#Python operators"
   ]
  },
  {
   "cell_type": "code",
   "execution_count": 62,
   "id": "1989595c-1df1-4cae-947d-962f7666a0df",
   "metadata": {},
   "outputs": [
    {
     "name": "stdout",
     "output_type": "stream",
     "text": [
      "2\n",
      "3\n",
      "-4\n",
      "1\n",
      "0\n",
      "12\n"
     ]
    }
   ],
   "source": [
    "x=3\n",
    "y=2\n",
    "print(x&y)\n",
    "print(x|y)\n",
    "print(~x)\n",
    "print(x^y)\n",
    "print(x>>y)\n",
    "print(x<<y)"
   ]
  },
  {
   "cell_type": "code",
   "execution_count": 63,
   "id": "f06c46ac-5f14-419a-ab7d-2202072c0d1c",
   "metadata": {},
   "outputs": [],
   "source": [
    "#Identity operator"
   ]
  },
  {
   "cell_type": "code",
   "execution_count": 64,
   "id": "96e57a3c-03e1-4d15-96e4-4e0619b1e2ed",
   "metadata": {},
   "outputs": [
    {
     "name": "stdout",
     "output_type": "stream",
     "text": [
      "x is y False\n"
     ]
    }
   ],
   "source": [
    "x=[1,2]\n",
    "y=[1,2]\n",
    "print(\"x is y\", x is y)"
   ]
  },
  {
   "cell_type": "code",
   "execution_count": 67,
   "id": "d7906ccd-6826-45f5-a1ea-85f640935213",
   "metadata": {},
   "outputs": [
    {
     "ename": "NameError",
     "evalue": "name 'z' is not defined",
     "output_type": "error",
     "traceback": [
      "\u001b[31m---------------------------------------------------------------------------\u001b[39m",
      "\u001b[31mNameError\u001b[39m                                 Traceback (most recent call last)",
      "\u001b[36mCell\u001b[39m\u001b[36m \u001b[39m\u001b[32mIn[67]\u001b[39m\u001b[32m, line 1\u001b[39m\n\u001b[32m----> \u001b[39m\u001b[32m1\u001b[39m x=\u001b[43mz\u001b[49m\n\u001b[32m      2\u001b[39m \u001b[38;5;28mprint\u001b[39m(\u001b[33m\"\u001b[39m\u001b[33mx is z\u001b[39m\u001b[33m\"\u001b[39m, x \u001b[38;5;129;01mis\u001b[39;00m z)\n",
      "\u001b[31mNameError\u001b[39m: name 'z' is not defined"
     ]
    }
   ],
   "source": [
    "x=z\n",
    "print(\"x is z\", x is z)"
   ]
  },
  {
   "cell_type": "code",
   "execution_count": 71,
   "id": "b9f33ec1-c9a6-4a5f-90d5-140453fff63d",
   "metadata": {},
   "outputs": [
    {
     "name": "stdout",
     "output_type": "stream",
     "text": [
      "x is z True\n"
     ]
    }
   ],
   "source": [
    "z=x\n",
    "print(\"x is z\", x is z)"
   ]
  },
  {
   "cell_type": "code",
   "execution_count": 73,
   "id": "d9e136b6-0bef-4682-adf8-c0552f014122",
   "metadata": {},
   "outputs": [
    {
     "name": "stdout",
     "output_type": "stream",
     "text": [
      "False\n",
      "True\n",
      "False\n"
     ]
    }
   ],
   "source": [
    "x1=5\n",
    "y1=5\n",
    "x2='HELLO'\n",
    "y2='HELLO'\n",
    "x3=[1,2,3]\n",
    "y3=[1,2,3]\n",
    "print(x1 is not y1)\n",
    "print(x2 is y2)\n",
    "print(x3 is y3)"
   ]
  },
  {
   "cell_type": "code",
   "execution_count": 74,
   "id": "6bed2784-9cd4-4596-9158-9f1b27fe6a56",
   "metadata": {},
   "outputs": [
    {
     "data": {
      "text/plain": [
       "True"
      ]
     },
     "execution_count": 74,
     "metadata": {},
     "output_type": "execute_result"
    }
   ],
   "source": [
    "5 in x\n",
    "5 not in x"
   ]
  },
  {
   "cell_type": "code",
   "execution_count": 75,
   "id": "b033e721-3925-455c-b69a-e46e7945445e",
   "metadata": {},
   "outputs": [],
   "source": [
    "message='Hello World'"
   ]
  },
  {
   "cell_type": "code",
   "execution_count": 76,
   "id": "44bbd19b-cd78-44ea-8037-84eee1ab0712",
   "metadata": {},
   "outputs": [],
   "source": [
    "#check if H is present in the message string"
   ]
  },
  {
   "cell_type": "code",
   "execution_count": 79,
   "id": "319f1412-8a98-434c-ba04-1995c0bc5396",
   "metadata": {},
   "outputs": [
    {
     "name": "stdout",
     "output_type": "stream",
     "text": [
      "True\n"
     ]
    }
   ],
   "source": [
    "print('H' in message)"
   ]
  },
  {
   "cell_type": "code",
   "execution_count": 80,
   "id": "fc34eb23-a178-4b59-b50a-897eac14c05c",
   "metadata": {},
   "outputs": [],
   "source": [
    "#check if Hello is present in the message string"
   ]
  },
  {
   "cell_type": "code",
   "execution_count": 83,
   "id": "e578f3f9-0a52-4823-95d4-f8215f119129",
   "metadata": {},
   "outputs": [
    {
     "name": "stdout",
     "output_type": "stream",
     "text": [
      "False\n"
     ]
    }
   ],
   "source": [
    "print('Hello' not in message)"
   ]
  },
  {
   "cell_type": "code",
   "execution_count": 84,
   "id": "fcbef8bd-e49e-4a2b-bad4-243cd002d323",
   "metadata": {},
   "outputs": [],
   "source": [
    "#check if key 1 is present in the dictionary"
   ]
  },
  {
   "cell_type": "code",
   "execution_count": 85,
   "id": "5b7c3e27-a216-41f9-a630-fe85a2d1c93a",
   "metadata": {},
   "outputs": [
    {
     "name": "stdout",
     "output_type": "stream",
     "text": [
      "True\n"
     ]
    }
   ],
   "source": [
    "dict={1:'a', 2:'b'}\n",
    "print(1 in dict)"
   ]
  },
  {
   "cell_type": "code",
   "execution_count": 86,
   "id": "3c2c06e2-86cd-44de-949a-998dba3ca4a8",
   "metadata": {},
   "outputs": [],
   "source": [
    "#check if value a is present in the dictionary"
   ]
  },
  {
   "cell_type": "code",
   "execution_count": 87,
   "id": "026845e7-372c-4c42-8258-f21f51ae3798",
   "metadata": {},
   "outputs": [
    {
     "name": "stdout",
     "output_type": "stream",
     "text": [
      "False\n"
     ]
    }
   ],
   "source": [
    "print('a' in dict)"
   ]
  },
  {
   "cell_type": "code",
   "execution_count": 88,
   "id": "dd6cf418-d953-4cd8-9d03-0360d5991aac",
   "metadata": {},
   "outputs": [],
   "source": [
    "#precedence and associativity in python"
   ]
  },
  {
   "cell_type": "code",
   "execution_count": 89,
   "id": "0c0aef65-bd94-42e7-87cf-38757ba34a4e",
   "metadata": {},
   "outputs": [],
   "source": [
    "#Ternary operator: conditional expression"
   ]
  },
  {
   "cell_type": "code",
   "execution_count": 90,
   "id": "bdf1b2d9-33be-48eb-9e0f-11cefd607f26",
   "metadata": {},
   "outputs": [
    {
     "name": "stdout",
     "output_type": "stream",
     "text": [
      "10\n"
     ]
    }
   ],
   "source": [
    "a, b = 10, 20\n",
    "min= a if a<b else b\n",
    "print(min)"
   ]
  },
  {
   "cell_type": "code",
   "execution_count": 92,
   "id": "a5e62bfb-df36-4542-aa2b-1c039244d88c",
   "metadata": {},
   "outputs": [
    {
     "name": "stdout",
     "output_type": "stream",
     "text": [
      "positive\n"
     ]
    }
   ],
   "source": [
    "x=5\n",
    "ans= 'positive' if x>0 else 'negetive'\n",
    "print(ans)"
   ]
  },
  {
   "cell_type": "code",
   "execution_count": 94,
   "id": "64cfdd87-e71f-45ff-9337-c0f0d3775c0f",
   "metadata": {},
   "outputs": [
    {
     "name": "stdout",
     "output_type": "stream",
     "text": [
      "positive\n"
     ]
    }
   ],
   "source": [
    "x=0.5\n",
    "ans= 'positive' if x>0 else 'negetive'\n",
    "print(ans)"
   ]
  },
  {
   "cell_type": "code",
   "execution_count": 95,
   "id": "bfe80124-f956-4818-966c-4dc036e778ad",
   "metadata": {},
   "outputs": [
    {
     "name": "stdout",
     "output_type": "stream",
     "text": [
      "negetive\n"
     ]
    }
   ],
   "source": [
    "x=-5\n",
    "ans= 'positive' if x>0 else 'negetive'\n",
    "print(ans)"
   ]
  },
  {
   "cell_type": "code",
   "execution_count": 96,
   "id": "604f7014-43bd-4b78-bda1-f09742d9c113",
   "metadata": {},
   "outputs": [
    {
     "name": "stdout",
     "output_type": "stream",
     "text": [
      "610\n"
     ]
    }
   ],
   "source": [
    "exp=10+20*30\n",
    "print(exp)"
   ]
  },
  {
   "cell_type": "code",
   "execution_count": 97,
   "id": "26a13635-566a-4404-b408-cd2cc5e784fc",
   "metadata": {},
   "outputs": [
    {
     "data": {
      "text/plain": [
       "True"
      ]
     },
     "execution_count": 97,
     "metadata": {},
     "output_type": "execute_result"
    }
   ],
   "source": [
    "False== False or True"
   ]
  },
  {
   "cell_type": "code",
   "execution_count": 101,
   "id": "2f778c18-0463-4169-9485-6b80a2e5af38",
   "metadata": {},
   "outputs": [
    {
     "name": "stdout",
     "output_type": "stream",
     "text": [
      "False\n"
     ]
    }
   ],
   "source": [
    "print(False== (False or True))"
   ]
  },
  {
   "cell_type": "code",
   "execution_count": 100,
   "id": "1d027c4d-f5a3-498e-ae2b-f5e86b343de7",
   "metadata": {},
   "outputs": [],
   "source": [
    "#you are consrtucting an if else block which runs if the lunch is either fruit or sandwitch and only if money is more than or equal to 2"
   ]
  },
  {
   "cell_type": "code",
   "execution_count": 102,
   "id": "60662cd7-0501-40cf-95cb-6ea3b2bed56d",
   "metadata": {},
   "outputs": [
    {
     "ename": "SyntaxError",
     "evalue": "Missing parentheses in call to 'print'. Did you mean print(...)? (982959021.py, line 2)",
     "output_type": "error",
     "traceback": [
      "  \u001b[36mCell\u001b[39m\u001b[36m \u001b[39m\u001b[32mIn[102]\u001b[39m\u001b[32m, line 2\u001b[39m\n\u001b[31m    \u001b[39m\u001b[31mprint True\u001b[39m\n    ^\n\u001b[31mSyntaxError\u001b[39m\u001b[31m:\u001b[39m Missing parentheses in call to 'print'. Did you mean print(...)?\n"
     ]
    }
   ],
   "source": [
    "if 'lunch' == 'fruit' or 'sandwitch' and 'money' >=2:\n",
    "    print True"
   ]
  },
  {
   "cell_type": "code",
   "execution_count": 103,
   "id": "092e0651-b42f-48f3-9864-913519416cee",
   "metadata": {},
   "outputs": [
    {
     "name": "stdout",
     "output_type": "stream",
     "text": [
      "100.0\n"
     ]
    }
   ],
   "source": [
    "print(100/10*10)"
   ]
  },
  {
   "cell_type": "code",
   "execution_count": null,
   "id": "c92eccc0-b998-43c3-840b-1bba579f7b6f",
   "metadata": {},
   "outputs": [],
   "source": []
  }
 ],
 "metadata": {
  "kernelspec": {
   "display_name": "Python 3 (ipykernel)",
   "language": "python",
   "name": "python3"
  },
  "language_info": {
   "codemirror_mode": {
    "name": "ipython",
    "version": 3
   },
   "file_extension": ".py",
   "mimetype": "text/x-python",
   "name": "python",
   "nbconvert_exporter": "python",
   "pygments_lexer": "ipython3",
   "version": "3.13.5"
  }
 },
 "nbformat": 4,
 "nbformat_minor": 5
}
